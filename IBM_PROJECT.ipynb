{
  "nbformat": 4,
  "nbformat_minor": 0,
  "metadata": {
    "colab": {
      "provenance": [],
      "include_colab_link": true
    },
    "kernelspec": {
      "name": "python3",
      "display_name": "Python 3"
    },
    "language_info": {
      "name": "python"
    }
  },
  "cells": [
    {
      "cell_type": "markdown",
      "metadata": {
        "id": "view-in-github",
        "colab_type": "text"
      },
      "source": [
        "<a href=\"https://colab.research.google.com/github/Yash22222/IBM-CSRBOX-Internship-Project/blob/main/IBM_PROJECT.ipynb\" target=\"_parent\"><img src=\"https://colab.research.google.com/assets/colab-badge.svg\" alt=\"Open In Colab\"/></a>"
      ]
    },
    {
      "cell_type": "markdown",
      "source": [
        "# **P-1:- WEB SCRAPPING FOR AIR INDIA'S SENTIMENT ANALYSIS**"
      ],
      "metadata": {
        "id": "vIdRBCOFIWRC"
      }
    },
    {
      "cell_type": "markdown",
      "source": [
        "## **Web Scrapping**"
      ],
      "metadata": {
        "id": "4KfsolfEJXi0"
      }
    },
    {
      "cell_type": "markdown",
      "source": [
        "#### Web scraping is a technique used to extract data from websites automatically. It involves writing code to navigate through web pages, locate specific elements, and extract relevant information. Web scraping is commonly used in data mining, data analysis, and gathering data for research or business purposes."
      ],
      "metadata": {
        "id": "iGTUQRVpK5aF"
      }
    },
    {
      "cell_type": "code",
      "source": [
        "# Importing Libraries For Web Scrapping\n",
        "\n",
        "import requests\n",
        "from bs4 import BeautifulSoup\n",
        "import pandas as pd"
      ],
      "metadata": {
        "id": "ck7tHDYCICLV"
      },
      "execution_count": 76,
      "outputs": []
    },
    {
      "cell_type": "markdown",
      "source": [
        "#### Requests is a popular Python library that allows you to send HTTP/1.1 requests easily. It simplifies the process of making HTTP requests to fetch data from URLs."
      ],
      "metadata": {
        "id": "2avt7zT8I2rQ"
      }
    },
    {
      "cell_type": "markdown",
      "source": [
        "#### BeautifulSoup is a Python library used to parse HTML and XML documents and extract information from them. It creates a parse tree from the HTML/XML source, which can be used to navigate and search for specific elements in the document using various"
      ],
      "metadata": {
        "id": "_0F3xgVzJNie"
      }
    },
    {
      "cell_type": "markdown",
      "source": [
        "#### Pandas is a powerful open-source Python library widely used for data manipulation and analysis. It provides data structures and functions for efficiently working with structured data, making it a fundamental tool for data scientists and analysts."
      ],
      "metadata": {
        "id": "NSkIourgPapg"
      }
    },
    {
      "cell_type": "code",
      "source": [
        "base_url = \"https://www.airlinequality.com/airline-reviews/air-india/\"\n",
        "pages = 10\n",
        "page_size = 100\n",
        "\n",
        "data = []\n",
        "for i in range(1, pages + 1):\n",
        "\n",
        "    print(f\"Scraping page {i}\")\n",
        "    url = f\"{base_url}/page/{i}/?sortby=post_date%3ADesc&pagesize={page_size}\"\n",
        "    response = requests.get(url)\n",
        "    content = response.content\n",
        "    parsed_content = BeautifulSoup(content, 'html.parser')\n",
        "    for para in parsed_content.find_all(\"div\", {\"class\": \"text_content\"}):\n",
        "        data.append(para.get_text())\n",
        "\n",
        "    print(f\"   ---> {len(data)} total reviews\")"
      ],
      "metadata": {
        "id": "eVEcw02uJQZJ",
        "outputId": "fcd521b4-dc66-47b2-ae33-fe5de6869e8f",
        "colab": {
          "base_uri": "https://localhost:8080/"
        }
      },
      "execution_count": 77,
      "outputs": [
        {
          "output_type": "stream",
          "name": "stdout",
          "text": [
            "Scraping page 1\n",
            "   ---> 100 total reviews\n",
            "Scraping page 2\n",
            "   ---> 200 total reviews\n",
            "Scraping page 3\n",
            "   ---> 300 total reviews\n",
            "Scraping page 4\n",
            "   ---> 400 total reviews\n",
            "Scraping page 5\n",
            "   ---> 500 total reviews\n",
            "Scraping page 6\n",
            "   ---> 600 total reviews\n",
            "Scraping page 7\n",
            "   ---> 700 total reviews\n",
            "Scraping page 8\n",
            "   ---> 800 total reviews\n",
            "Scraping page 9\n",
            "   ---> 900 total reviews\n",
            "Scraping page 10\n",
            "   ---> 1000 total reviews\n"
          ]
        }
      ]
    },
    {
      "cell_type": "code",
      "source": [
        "df = pd.DataFrame()\n",
        "df[\"data\"] = data\n",
        "df.head()"
      ],
      "metadata": {
        "id": "IA9C2DltJiRK",
        "outputId": "3bb094aa-bb19-4b7f-cfea-7d336556c558",
        "colab": {
          "base_uri": "https://localhost:8080/",
          "height": 206
        }
      },
      "execution_count": 78,
      "outputs": [
        {
          "output_type": "execute_result",
          "data": {
            "text/plain": [
              "                                                data\n",
              "0  ✅ Trip Verified |  Horrible service from New D...\n",
              "1  ✅ Trip Verified |  Newark to Chennai via Mumba...\n",
              "2  ✅ Trip Verified | At 0:39 in the morning you a...\n",
              "3  ✅ Trip Verified |  Had one of the worst experi...\n",
              "4  Not Verified |  Bad treatment, took Air India ..."
            ],
            "text/html": [
              "\n",
              "\n",
              "  <div id=\"df-cd6b776d-d1c8-4126-92e4-e72262eda274\">\n",
              "    <div class=\"colab-df-container\">\n",
              "      <div>\n",
              "<style scoped>\n",
              "    .dataframe tbody tr th:only-of-type {\n",
              "        vertical-align: middle;\n",
              "    }\n",
              "\n",
              "    .dataframe tbody tr th {\n",
              "        vertical-align: top;\n",
              "    }\n",
              "\n",
              "    .dataframe thead th {\n",
              "        text-align: right;\n",
              "    }\n",
              "</style>\n",
              "<table border=\"1\" class=\"dataframe\">\n",
              "  <thead>\n",
              "    <tr style=\"text-align: right;\">\n",
              "      <th></th>\n",
              "      <th>data</th>\n",
              "    </tr>\n",
              "  </thead>\n",
              "  <tbody>\n",
              "    <tr>\n",
              "      <th>0</th>\n",
              "      <td>✅ Trip Verified |  Horrible service from New D...</td>\n",
              "    </tr>\n",
              "    <tr>\n",
              "      <th>1</th>\n",
              "      <td>✅ Trip Verified |  Newark to Chennai via Mumba...</td>\n",
              "    </tr>\n",
              "    <tr>\n",
              "      <th>2</th>\n",
              "      <td>✅ Trip Verified | At 0:39 in the morning you a...</td>\n",
              "    </tr>\n",
              "    <tr>\n",
              "      <th>3</th>\n",
              "      <td>✅ Trip Verified |  Had one of the worst experi...</td>\n",
              "    </tr>\n",
              "    <tr>\n",
              "      <th>4</th>\n",
              "      <td>Not Verified |  Bad treatment, took Air India ...</td>\n",
              "    </tr>\n",
              "  </tbody>\n",
              "</table>\n",
              "</div>\n",
              "      <button class=\"colab-df-convert\" onclick=\"convertToInteractive('df-cd6b776d-d1c8-4126-92e4-e72262eda274')\"\n",
              "              title=\"Convert this dataframe to an interactive table.\"\n",
              "              style=\"display:none;\">\n",
              "\n",
              "  <svg xmlns=\"http://www.w3.org/2000/svg\" height=\"24px\"viewBox=\"0 0 24 24\"\n",
              "       width=\"24px\">\n",
              "    <path d=\"M0 0h24v24H0V0z\" fill=\"none\"/>\n",
              "    <path d=\"M18.56 5.44l.94 2.06.94-2.06 2.06-.94-2.06-.94-.94-2.06-.94 2.06-2.06.94zm-11 1L8.5 8.5l.94-2.06 2.06-.94-2.06-.94L8.5 2.5l-.94 2.06-2.06.94zm10 10l.94 2.06.94-2.06 2.06-.94-2.06-.94-.94-2.06-.94 2.06-2.06.94z\"/><path d=\"M17.41 7.96l-1.37-1.37c-.4-.4-.92-.59-1.43-.59-.52 0-1.04.2-1.43.59L10.3 9.45l-7.72 7.72c-.78.78-.78 2.05 0 2.83L4 21.41c.39.39.9.59 1.41.59.51 0 1.02-.2 1.41-.59l7.78-7.78 2.81-2.81c.8-.78.8-2.07 0-2.86zM5.41 20L4 18.59l7.72-7.72 1.47 1.35L5.41 20z\"/>\n",
              "  </svg>\n",
              "      </button>\n",
              "\n",
              "\n",
              "\n",
              "    <div id=\"df-c4e22678-dde7-4365-b371-9f85f0771de5\">\n",
              "      <button class=\"colab-df-quickchart\" onclick=\"quickchart('df-c4e22678-dde7-4365-b371-9f85f0771de5')\"\n",
              "              title=\"Suggest charts.\"\n",
              "              style=\"display:none;\">\n",
              "\n",
              "<svg xmlns=\"http://www.w3.org/2000/svg\" height=\"24px\"viewBox=\"0 0 24 24\"\n",
              "     width=\"24px\">\n",
              "    <g>\n",
              "        <path d=\"M19 3H5c-1.1 0-2 .9-2 2v14c0 1.1.9 2 2 2h14c1.1 0 2-.9 2-2V5c0-1.1-.9-2-2-2zM9 17H7v-7h2v7zm4 0h-2V7h2v10zm4 0h-2v-4h2v4z\"/>\n",
              "    </g>\n",
              "</svg>\n",
              "      </button>\n",
              "    </div>\n",
              "\n",
              "<style>\n",
              "  .colab-df-quickchart {\n",
              "    background-color: #E8F0FE;\n",
              "    border: none;\n",
              "    border-radius: 50%;\n",
              "    cursor: pointer;\n",
              "    display: none;\n",
              "    fill: #1967D2;\n",
              "    height: 32px;\n",
              "    padding: 0 0 0 0;\n",
              "    width: 32px;\n",
              "  }\n",
              "\n",
              "  .colab-df-quickchart:hover {\n",
              "    background-color: #E2EBFA;\n",
              "    box-shadow: 0px 1px 2px rgba(60, 64, 67, 0.3), 0px 1px 3px 1px rgba(60, 64, 67, 0.15);\n",
              "    fill: #174EA6;\n",
              "  }\n",
              "\n",
              "  [theme=dark] .colab-df-quickchart {\n",
              "    background-color: #3B4455;\n",
              "    fill: #D2E3FC;\n",
              "  }\n",
              "\n",
              "  [theme=dark] .colab-df-quickchart:hover {\n",
              "    background-color: #434B5C;\n",
              "    box-shadow: 0px 1px 3px 1px rgba(0, 0, 0, 0.15);\n",
              "    filter: drop-shadow(0px 1px 2px rgba(0, 0, 0, 0.3));\n",
              "    fill: #FFFFFF;\n",
              "  }\n",
              "</style>\n",
              "\n",
              "    <script>\n",
              "      async function quickchart(key) {\n",
              "        const containerElement = document.querySelector('#' + key);\n",
              "        const charts = await google.colab.kernel.invokeFunction(\n",
              "            'suggestCharts', [key], {});\n",
              "      }\n",
              "    </script>\n",
              "\n",
              "      <script>\n",
              "\n",
              "function displayQuickchartButton(domScope) {\n",
              "  let quickchartButtonEl =\n",
              "    domScope.querySelector('#df-c4e22678-dde7-4365-b371-9f85f0771de5 button.colab-df-quickchart');\n",
              "  quickchartButtonEl.style.display =\n",
              "    google.colab.kernel.accessAllowed ? 'block' : 'none';\n",
              "}\n",
              "\n",
              "        displayQuickchartButton(document);\n",
              "      </script>\n",
              "      <style>\n",
              "    .colab-df-container {\n",
              "      display:flex;\n",
              "      flex-wrap:wrap;\n",
              "      gap: 12px;\n",
              "    }\n",
              "\n",
              "    .colab-df-convert {\n",
              "      background-color: #E8F0FE;\n",
              "      border: none;\n",
              "      border-radius: 50%;\n",
              "      cursor: pointer;\n",
              "      display: none;\n",
              "      fill: #1967D2;\n",
              "      height: 32px;\n",
              "      padding: 0 0 0 0;\n",
              "      width: 32px;\n",
              "    }\n",
              "\n",
              "    .colab-df-convert:hover {\n",
              "      background-color: #E2EBFA;\n",
              "      box-shadow: 0px 1px 2px rgba(60, 64, 67, 0.3), 0px 1px 3px 1px rgba(60, 64, 67, 0.15);\n",
              "      fill: #174EA6;\n",
              "    }\n",
              "\n",
              "    [theme=dark] .colab-df-convert {\n",
              "      background-color: #3B4455;\n",
              "      fill: #D2E3FC;\n",
              "    }\n",
              "\n",
              "    [theme=dark] .colab-df-convert:hover {\n",
              "      background-color: #434B5C;\n",
              "      box-shadow: 0px 1px 3px 1px rgba(0, 0, 0, 0.15);\n",
              "      filter: drop-shadow(0px 1px 2px rgba(0, 0, 0, 0.3));\n",
              "      fill: #FFFFFF;\n",
              "    }\n",
              "  </style>\n",
              "\n",
              "      <script>\n",
              "        const buttonEl =\n",
              "          document.querySelector('#df-cd6b776d-d1c8-4126-92e4-e72262eda274 button.colab-df-convert');\n",
              "        buttonEl.style.display =\n",
              "          google.colab.kernel.accessAllowed ? 'block' : 'none';\n",
              "\n",
              "        async function convertToInteractive(key) {\n",
              "          const element = document.querySelector('#df-cd6b776d-d1c8-4126-92e4-e72262eda274');\n",
              "          const dataTable =\n",
              "            await google.colab.kernel.invokeFunction('convertToInteractive',\n",
              "                                                     [key], {});\n",
              "          if (!dataTable) return;\n",
              "\n",
              "          const docLinkHtml = 'Like what you see? Visit the ' +\n",
              "            '<a target=\"_blank\" href=https://colab.research.google.com/notebooks/data_table.ipynb>data table notebook</a>'\n",
              "            + ' to learn more about interactive tables.';\n",
              "          element.innerHTML = '';\n",
              "          dataTable['output_type'] = 'display_data';\n",
              "          await google.colab.output.renderOutput(dataTable, element);\n",
              "          const docLink = document.createElement('div');\n",
              "          docLink.innerHTML = docLinkHtml;\n",
              "          element.appendChild(docLink);\n",
              "        }\n",
              "      </script>\n",
              "    </div>\n",
              "  </div>\n"
            ]
          },
          "metadata": {},
          "execution_count": 78
        }
      ]
    },
    {
      "cell_type": "code",
      "source": [
        "df.to_csv(\"data.csv\")\n",
        "df.head()"
      ],
      "metadata": {
        "id": "6PY7CL14JlYR",
        "outputId": "6868a45c-dca2-49d7-fc17-23c1135bfc0b",
        "colab": {
          "base_uri": "https://localhost:8080/",
          "height": 206
        }
      },
      "execution_count": 79,
      "outputs": [
        {
          "output_type": "execute_result",
          "data": {
            "text/plain": [
              "                                                data\n",
              "0  ✅ Trip Verified |  Horrible service from New D...\n",
              "1  ✅ Trip Verified |  Newark to Chennai via Mumba...\n",
              "2  ✅ Trip Verified | At 0:39 in the morning you a...\n",
              "3  ✅ Trip Verified |  Had one of the worst experi...\n",
              "4  Not Verified |  Bad treatment, took Air India ..."
            ],
            "text/html": [
              "\n",
              "\n",
              "  <div id=\"df-0de91c3d-63cd-4af8-aad3-dd38ed65d7b5\">\n",
              "    <div class=\"colab-df-container\">\n",
              "      <div>\n",
              "<style scoped>\n",
              "    .dataframe tbody tr th:only-of-type {\n",
              "        vertical-align: middle;\n",
              "    }\n",
              "\n",
              "    .dataframe tbody tr th {\n",
              "        vertical-align: top;\n",
              "    }\n",
              "\n",
              "    .dataframe thead th {\n",
              "        text-align: right;\n",
              "    }\n",
              "</style>\n",
              "<table border=\"1\" class=\"dataframe\">\n",
              "  <thead>\n",
              "    <tr style=\"text-align: right;\">\n",
              "      <th></th>\n",
              "      <th>data</th>\n",
              "    </tr>\n",
              "  </thead>\n",
              "  <tbody>\n",
              "    <tr>\n",
              "      <th>0</th>\n",
              "      <td>✅ Trip Verified |  Horrible service from New D...</td>\n",
              "    </tr>\n",
              "    <tr>\n",
              "      <th>1</th>\n",
              "      <td>✅ Trip Verified |  Newark to Chennai via Mumba...</td>\n",
              "    </tr>\n",
              "    <tr>\n",
              "      <th>2</th>\n",
              "      <td>✅ Trip Verified | At 0:39 in the morning you a...</td>\n",
              "    </tr>\n",
              "    <tr>\n",
              "      <th>3</th>\n",
              "      <td>✅ Trip Verified |  Had one of the worst experi...</td>\n",
              "    </tr>\n",
              "    <tr>\n",
              "      <th>4</th>\n",
              "      <td>Not Verified |  Bad treatment, took Air India ...</td>\n",
              "    </tr>\n",
              "  </tbody>\n",
              "</table>\n",
              "</div>\n",
              "      <button class=\"colab-df-convert\" onclick=\"convertToInteractive('df-0de91c3d-63cd-4af8-aad3-dd38ed65d7b5')\"\n",
              "              title=\"Convert this dataframe to an interactive table.\"\n",
              "              style=\"display:none;\">\n",
              "\n",
              "  <svg xmlns=\"http://www.w3.org/2000/svg\" height=\"24px\"viewBox=\"0 0 24 24\"\n",
              "       width=\"24px\">\n",
              "    <path d=\"M0 0h24v24H0V0z\" fill=\"none\"/>\n",
              "    <path d=\"M18.56 5.44l.94 2.06.94-2.06 2.06-.94-2.06-.94-.94-2.06-.94 2.06-2.06.94zm-11 1L8.5 8.5l.94-2.06 2.06-.94-2.06-.94L8.5 2.5l-.94 2.06-2.06.94zm10 10l.94 2.06.94-2.06 2.06-.94-2.06-.94-.94-2.06-.94 2.06-2.06.94z\"/><path d=\"M17.41 7.96l-1.37-1.37c-.4-.4-.92-.59-1.43-.59-.52 0-1.04.2-1.43.59L10.3 9.45l-7.72 7.72c-.78.78-.78 2.05 0 2.83L4 21.41c.39.39.9.59 1.41.59.51 0 1.02-.2 1.41-.59l7.78-7.78 2.81-2.81c.8-.78.8-2.07 0-2.86zM5.41 20L4 18.59l7.72-7.72 1.47 1.35L5.41 20z\"/>\n",
              "  </svg>\n",
              "      </button>\n",
              "\n",
              "\n",
              "\n",
              "    <div id=\"df-054daca7-3b00-49ca-904b-298c644c15ce\">\n",
              "      <button class=\"colab-df-quickchart\" onclick=\"quickchart('df-054daca7-3b00-49ca-904b-298c644c15ce')\"\n",
              "              title=\"Suggest charts.\"\n",
              "              style=\"display:none;\">\n",
              "\n",
              "<svg xmlns=\"http://www.w3.org/2000/svg\" height=\"24px\"viewBox=\"0 0 24 24\"\n",
              "     width=\"24px\">\n",
              "    <g>\n",
              "        <path d=\"M19 3H5c-1.1 0-2 .9-2 2v14c0 1.1.9 2 2 2h14c1.1 0 2-.9 2-2V5c0-1.1-.9-2-2-2zM9 17H7v-7h2v7zm4 0h-2V7h2v10zm4 0h-2v-4h2v4z\"/>\n",
              "    </g>\n",
              "</svg>\n",
              "      </button>\n",
              "    </div>\n",
              "\n",
              "<style>\n",
              "  .colab-df-quickchart {\n",
              "    background-color: #E8F0FE;\n",
              "    border: none;\n",
              "    border-radius: 50%;\n",
              "    cursor: pointer;\n",
              "    display: none;\n",
              "    fill: #1967D2;\n",
              "    height: 32px;\n",
              "    padding: 0 0 0 0;\n",
              "    width: 32px;\n",
              "  }\n",
              "\n",
              "  .colab-df-quickchart:hover {\n",
              "    background-color: #E2EBFA;\n",
              "    box-shadow: 0px 1px 2px rgba(60, 64, 67, 0.3), 0px 1px 3px 1px rgba(60, 64, 67, 0.15);\n",
              "    fill: #174EA6;\n",
              "  }\n",
              "\n",
              "  [theme=dark] .colab-df-quickchart {\n",
              "    background-color: #3B4455;\n",
              "    fill: #D2E3FC;\n",
              "  }\n",
              "\n",
              "  [theme=dark] .colab-df-quickchart:hover {\n",
              "    background-color: #434B5C;\n",
              "    box-shadow: 0px 1px 3px 1px rgba(0, 0, 0, 0.15);\n",
              "    filter: drop-shadow(0px 1px 2px rgba(0, 0, 0, 0.3));\n",
              "    fill: #FFFFFF;\n",
              "  }\n",
              "</style>\n",
              "\n",
              "    <script>\n",
              "      async function quickchart(key) {\n",
              "        const containerElement = document.querySelector('#' + key);\n",
              "        const charts = await google.colab.kernel.invokeFunction(\n",
              "            'suggestCharts', [key], {});\n",
              "      }\n",
              "    </script>\n",
              "\n",
              "      <script>\n",
              "\n",
              "function displayQuickchartButton(domScope) {\n",
              "  let quickchartButtonEl =\n",
              "    domScope.querySelector('#df-054daca7-3b00-49ca-904b-298c644c15ce button.colab-df-quickchart');\n",
              "  quickchartButtonEl.style.display =\n",
              "    google.colab.kernel.accessAllowed ? 'block' : 'none';\n",
              "}\n",
              "\n",
              "        displayQuickchartButton(document);\n",
              "      </script>\n",
              "      <style>\n",
              "    .colab-df-container {\n",
              "      display:flex;\n",
              "      flex-wrap:wrap;\n",
              "      gap: 12px;\n",
              "    }\n",
              "\n",
              "    .colab-df-convert {\n",
              "      background-color: #E8F0FE;\n",
              "      border: none;\n",
              "      border-radius: 50%;\n",
              "      cursor: pointer;\n",
              "      display: none;\n",
              "      fill: #1967D2;\n",
              "      height: 32px;\n",
              "      padding: 0 0 0 0;\n",
              "      width: 32px;\n",
              "    }\n",
              "\n",
              "    .colab-df-convert:hover {\n",
              "      background-color: #E2EBFA;\n",
              "      box-shadow: 0px 1px 2px rgba(60, 64, 67, 0.3), 0px 1px 3px 1px rgba(60, 64, 67, 0.15);\n",
              "      fill: #174EA6;\n",
              "    }\n",
              "\n",
              "    [theme=dark] .colab-df-convert {\n",
              "      background-color: #3B4455;\n",
              "      fill: #D2E3FC;\n",
              "    }\n",
              "\n",
              "    [theme=dark] .colab-df-convert:hover {\n",
              "      background-color: #434B5C;\n",
              "      box-shadow: 0px 1px 3px 1px rgba(0, 0, 0, 0.15);\n",
              "      filter: drop-shadow(0px 1px 2px rgba(0, 0, 0, 0.3));\n",
              "      fill: #FFFFFF;\n",
              "    }\n",
              "  </style>\n",
              "\n",
              "      <script>\n",
              "        const buttonEl =\n",
              "          document.querySelector('#df-0de91c3d-63cd-4af8-aad3-dd38ed65d7b5 button.colab-df-convert');\n",
              "        buttonEl.style.display =\n",
              "          google.colab.kernel.accessAllowed ? 'block' : 'none';\n",
              "\n",
              "        async function convertToInteractive(key) {\n",
              "          const element = document.querySelector('#df-0de91c3d-63cd-4af8-aad3-dd38ed65d7b5');\n",
              "          const dataTable =\n",
              "            await google.colab.kernel.invokeFunction('convertToInteractive',\n",
              "                                                     [key], {});\n",
              "          if (!dataTable) return;\n",
              "\n",
              "          const docLinkHtml = 'Like what you see? Visit the ' +\n",
              "            '<a target=\"_blank\" href=https://colab.research.google.com/notebooks/data_table.ipynb>data table notebook</a>'\n",
              "            + ' to learn more about interactive tables.';\n",
              "          element.innerHTML = '';\n",
              "          dataTable['output_type'] = 'display_data';\n",
              "          await google.colab.output.renderOutput(dataTable, element);\n",
              "          const docLink = document.createElement('div');\n",
              "          docLink.innerHTML = docLinkHtml;\n",
              "          element.appendChild(docLink);\n",
              "        }\n",
              "      </script>\n",
              "    </div>\n",
              "  </div>\n"
            ]
          },
          "metadata": {},
          "execution_count": 79
        }
      ]
    },
    {
      "cell_type": "markdown",
      "source": [
        "## **Data Preprocessing**"
      ],
      "metadata": {
        "id": "67V_dLNJJv__"
      }
    },
    {
      "cell_type": "markdown",
      "source": [
        "#### Data preprocessing is an essential step in the data science and machine learning pipeline. It involves cleaning, transforming, and preparing the raw data into a format suitable for analysis and building predictive models."
      ],
      "metadata": {
        "id": "HdBjhVTRKrbK"
      }
    },
    {
      "cell_type": "code",
      "source": [
        "# Remove sentences before '|' in data column\n",
        "df.data= df.data.str.split('|',expand=True)[1]\n",
        "df"
      ],
      "metadata": {
        "id": "Nr3k2a8VKBrK",
        "outputId": "2d00257d-8631-4d1c-925f-b38ea45ed905",
        "colab": {
          "base_uri": "https://localhost:8080/",
          "height": 423
        }
      },
      "execution_count": 80,
      "outputs": [
        {
          "output_type": "execute_result",
          "data": {
            "text/plain": [
              "                                                  data\n",
              "0      Horrible service from New Delhi to Vancouver...\n",
              "1      Newark to Chennai via Mumbai, outstanding se...\n",
              "2     At 0:39 in the morning you are informed a 6 h...\n",
              "3      Had one of the worst experiences being a fre...\n",
              "4      Bad treatment, took Air India flt no. 129 on...\n",
              "..                                                 ...\n",
              "995                                               None\n",
              "996                                               None\n",
              "997                                               None\n",
              "998                                               None\n",
              "999                                               None\n",
              "\n",
              "[1000 rows x 1 columns]"
            ],
            "text/html": [
              "\n",
              "\n",
              "  <div id=\"df-02312620-adc0-4dcf-997b-beedcf332c99\">\n",
              "    <div class=\"colab-df-container\">\n",
              "      <div>\n",
              "<style scoped>\n",
              "    .dataframe tbody tr th:only-of-type {\n",
              "        vertical-align: middle;\n",
              "    }\n",
              "\n",
              "    .dataframe tbody tr th {\n",
              "        vertical-align: top;\n",
              "    }\n",
              "\n",
              "    .dataframe thead th {\n",
              "        text-align: right;\n",
              "    }\n",
              "</style>\n",
              "<table border=\"1\" class=\"dataframe\">\n",
              "  <thead>\n",
              "    <tr style=\"text-align: right;\">\n",
              "      <th></th>\n",
              "      <th>data</th>\n",
              "    </tr>\n",
              "  </thead>\n",
              "  <tbody>\n",
              "    <tr>\n",
              "      <th>0</th>\n",
              "      <td>Horrible service from New Delhi to Vancouver...</td>\n",
              "    </tr>\n",
              "    <tr>\n",
              "      <th>1</th>\n",
              "      <td>Newark to Chennai via Mumbai, outstanding se...</td>\n",
              "    </tr>\n",
              "    <tr>\n",
              "      <th>2</th>\n",
              "      <td>At 0:39 in the morning you are informed a 6 h...</td>\n",
              "    </tr>\n",
              "    <tr>\n",
              "      <th>3</th>\n",
              "      <td>Had one of the worst experiences being a fre...</td>\n",
              "    </tr>\n",
              "    <tr>\n",
              "      <th>4</th>\n",
              "      <td>Bad treatment, took Air India flt no. 129 on...</td>\n",
              "    </tr>\n",
              "    <tr>\n",
              "      <th>...</th>\n",
              "      <td>...</td>\n",
              "    </tr>\n",
              "    <tr>\n",
              "      <th>995</th>\n",
              "      <td>None</td>\n",
              "    </tr>\n",
              "    <tr>\n",
              "      <th>996</th>\n",
              "      <td>None</td>\n",
              "    </tr>\n",
              "    <tr>\n",
              "      <th>997</th>\n",
              "      <td>None</td>\n",
              "    </tr>\n",
              "    <tr>\n",
              "      <th>998</th>\n",
              "      <td>None</td>\n",
              "    </tr>\n",
              "    <tr>\n",
              "      <th>999</th>\n",
              "      <td>None</td>\n",
              "    </tr>\n",
              "  </tbody>\n",
              "</table>\n",
              "<p>1000 rows × 1 columns</p>\n",
              "</div>\n",
              "      <button class=\"colab-df-convert\" onclick=\"convertToInteractive('df-02312620-adc0-4dcf-997b-beedcf332c99')\"\n",
              "              title=\"Convert this dataframe to an interactive table.\"\n",
              "              style=\"display:none;\">\n",
              "\n",
              "  <svg xmlns=\"http://www.w3.org/2000/svg\" height=\"24px\"viewBox=\"0 0 24 24\"\n",
              "       width=\"24px\">\n",
              "    <path d=\"M0 0h24v24H0V0z\" fill=\"none\"/>\n",
              "    <path d=\"M18.56 5.44l.94 2.06.94-2.06 2.06-.94-2.06-.94-.94-2.06-.94 2.06-2.06.94zm-11 1L8.5 8.5l.94-2.06 2.06-.94-2.06-.94L8.5 2.5l-.94 2.06-2.06.94zm10 10l.94 2.06.94-2.06 2.06-.94-2.06-.94-.94-2.06-.94 2.06-2.06.94z\"/><path d=\"M17.41 7.96l-1.37-1.37c-.4-.4-.92-.59-1.43-.59-.52 0-1.04.2-1.43.59L10.3 9.45l-7.72 7.72c-.78.78-.78 2.05 0 2.83L4 21.41c.39.39.9.59 1.41.59.51 0 1.02-.2 1.41-.59l7.78-7.78 2.81-2.81c.8-.78.8-2.07 0-2.86zM5.41 20L4 18.59l7.72-7.72 1.47 1.35L5.41 20z\"/>\n",
              "  </svg>\n",
              "      </button>\n",
              "\n",
              "\n",
              "\n",
              "    <div id=\"df-19c08d3f-3ac3-4cee-837b-e509ee528240\">\n",
              "      <button class=\"colab-df-quickchart\" onclick=\"quickchart('df-19c08d3f-3ac3-4cee-837b-e509ee528240')\"\n",
              "              title=\"Suggest charts.\"\n",
              "              style=\"display:none;\">\n",
              "\n",
              "<svg xmlns=\"http://www.w3.org/2000/svg\" height=\"24px\"viewBox=\"0 0 24 24\"\n",
              "     width=\"24px\">\n",
              "    <g>\n",
              "        <path d=\"M19 3H5c-1.1 0-2 .9-2 2v14c0 1.1.9 2 2 2h14c1.1 0 2-.9 2-2V5c0-1.1-.9-2-2-2zM9 17H7v-7h2v7zm4 0h-2V7h2v10zm4 0h-2v-4h2v4z\"/>\n",
              "    </g>\n",
              "</svg>\n",
              "      </button>\n",
              "    </div>\n",
              "\n",
              "<style>\n",
              "  .colab-df-quickchart {\n",
              "    background-color: #E8F0FE;\n",
              "    border: none;\n",
              "    border-radius: 50%;\n",
              "    cursor: pointer;\n",
              "    display: none;\n",
              "    fill: #1967D2;\n",
              "    height: 32px;\n",
              "    padding: 0 0 0 0;\n",
              "    width: 32px;\n",
              "  }\n",
              "\n",
              "  .colab-df-quickchart:hover {\n",
              "    background-color: #E2EBFA;\n",
              "    box-shadow: 0px 1px 2px rgba(60, 64, 67, 0.3), 0px 1px 3px 1px rgba(60, 64, 67, 0.15);\n",
              "    fill: #174EA6;\n",
              "  }\n",
              "\n",
              "  [theme=dark] .colab-df-quickchart {\n",
              "    background-color: #3B4455;\n",
              "    fill: #D2E3FC;\n",
              "  }\n",
              "\n",
              "  [theme=dark] .colab-df-quickchart:hover {\n",
              "    background-color: #434B5C;\n",
              "    box-shadow: 0px 1px 3px 1px rgba(0, 0, 0, 0.15);\n",
              "    filter: drop-shadow(0px 1px 2px rgba(0, 0, 0, 0.3));\n",
              "    fill: #FFFFFF;\n",
              "  }\n",
              "</style>\n",
              "\n",
              "    <script>\n",
              "      async function quickchart(key) {\n",
              "        const containerElement = document.querySelector('#' + key);\n",
              "        const charts = await google.colab.kernel.invokeFunction(\n",
              "            'suggestCharts', [key], {});\n",
              "      }\n",
              "    </script>\n",
              "\n",
              "      <script>\n",
              "\n",
              "function displayQuickchartButton(domScope) {\n",
              "  let quickchartButtonEl =\n",
              "    domScope.querySelector('#df-19c08d3f-3ac3-4cee-837b-e509ee528240 button.colab-df-quickchart');\n",
              "  quickchartButtonEl.style.display =\n",
              "    google.colab.kernel.accessAllowed ? 'block' : 'none';\n",
              "}\n",
              "\n",
              "        displayQuickchartButton(document);\n",
              "      </script>\n",
              "      <style>\n",
              "    .colab-df-container {\n",
              "      display:flex;\n",
              "      flex-wrap:wrap;\n",
              "      gap: 12px;\n",
              "    }\n",
              "\n",
              "    .colab-df-convert {\n",
              "      background-color: #E8F0FE;\n",
              "      border: none;\n",
              "      border-radius: 50%;\n",
              "      cursor: pointer;\n",
              "      display: none;\n",
              "      fill: #1967D2;\n",
              "      height: 32px;\n",
              "      padding: 0 0 0 0;\n",
              "      width: 32px;\n",
              "    }\n",
              "\n",
              "    .colab-df-convert:hover {\n",
              "      background-color: #E2EBFA;\n",
              "      box-shadow: 0px 1px 2px rgba(60, 64, 67, 0.3), 0px 1px 3px 1px rgba(60, 64, 67, 0.15);\n",
              "      fill: #174EA6;\n",
              "    }\n",
              "\n",
              "    [theme=dark] .colab-df-convert {\n",
              "      background-color: #3B4455;\n",
              "      fill: #D2E3FC;\n",
              "    }\n",
              "\n",
              "    [theme=dark] .colab-df-convert:hover {\n",
              "      background-color: #434B5C;\n",
              "      box-shadow: 0px 1px 3px 1px rgba(0, 0, 0, 0.15);\n",
              "      filter: drop-shadow(0px 1px 2px rgba(0, 0, 0, 0.3));\n",
              "      fill: #FFFFFF;\n",
              "    }\n",
              "  </style>\n",
              "\n",
              "      <script>\n",
              "        const buttonEl =\n",
              "          document.querySelector('#df-02312620-adc0-4dcf-997b-beedcf332c99 button.colab-df-convert');\n",
              "        buttonEl.style.display =\n",
              "          google.colab.kernel.accessAllowed ? 'block' : 'none';\n",
              "\n",
              "        async function convertToInteractive(key) {\n",
              "          const element = document.querySelector('#df-02312620-adc0-4dcf-997b-beedcf332c99');\n",
              "          const dataTable =\n",
              "            await google.colab.kernel.invokeFunction('convertToInteractive',\n",
              "                                                     [key], {});\n",
              "          if (!dataTable) return;\n",
              "\n",
              "          const docLinkHtml = 'Like what you see? Visit the ' +\n",
              "            '<a target=\"_blank\" href=https://colab.research.google.com/notebooks/data_table.ipynb>data table notebook</a>'\n",
              "            + ' to learn more about interactive tables.';\n",
              "          element.innerHTML = '';\n",
              "          dataTable['output_type'] = 'display_data';\n",
              "          await google.colab.output.renderOutput(dataTable, element);\n",
              "          const docLink = document.createElement('div');\n",
              "          docLink.innerHTML = docLinkHtml;\n",
              "          element.appendChild(docLink);\n",
              "        }\n",
              "      </script>\n",
              "    </div>\n",
              "  </div>\n"
            ]
          },
          "metadata": {},
          "execution_count": 80
        }
      ]
    },
    {
      "cell_type": "code",
      "source": [
        "# Remove All Special Characters\n",
        "\n",
        "# import request as re\n",
        "import re\n",
        "\n",
        "def clean(text):\n",
        "    text = re.sub('[^A-Za-z]+]', ' ', str(text))\n",
        "    return text\n",
        "\n",
        "df['clean_data'] = df['data'].apply(clean)\n",
        "df.head()"
      ],
      "metadata": {
        "id": "2p3FG34mKQMw",
        "outputId": "f74df4ae-706d-4f54-e6f9-e9016068fb30",
        "colab": {
          "base_uri": "https://localhost:8080/",
          "height": 206
        }
      },
      "execution_count": 81,
      "outputs": [
        {
          "output_type": "execute_result",
          "data": {
            "text/plain": [
              "                                                data  \\\n",
              "0    Horrible service from New Delhi to Vancouver...   \n",
              "1    Newark to Chennai via Mumbai, outstanding se...   \n",
              "2   At 0:39 in the morning you are informed a 6 h...   \n",
              "3    Had one of the worst experiences being a fre...   \n",
              "4    Bad treatment, took Air India flt no. 129 on...   \n",
              "\n",
              "                                          clean_data  \n",
              "0    Horrible service from New Delhi to Vancouver...  \n",
              "1    Newark to Chennai via Mumbai, outstanding se...  \n",
              "2   At 0:39 in the morning you are informed a 6 h...  \n",
              "3    Had one of the worst experiences being a fre...  \n",
              "4    Bad treatment, took Air India flt no. 129 on...  "
            ],
            "text/html": [
              "\n",
              "\n",
              "  <div id=\"df-a4c2cb56-a173-40a4-a10b-0cd927644bb2\">\n",
              "    <div class=\"colab-df-container\">\n",
              "      <div>\n",
              "<style scoped>\n",
              "    .dataframe tbody tr th:only-of-type {\n",
              "        vertical-align: middle;\n",
              "    }\n",
              "\n",
              "    .dataframe tbody tr th {\n",
              "        vertical-align: top;\n",
              "    }\n",
              "\n",
              "    .dataframe thead th {\n",
              "        text-align: right;\n",
              "    }\n",
              "</style>\n",
              "<table border=\"1\" class=\"dataframe\">\n",
              "  <thead>\n",
              "    <tr style=\"text-align: right;\">\n",
              "      <th></th>\n",
              "      <th>data</th>\n",
              "      <th>clean_data</th>\n",
              "    </tr>\n",
              "  </thead>\n",
              "  <tbody>\n",
              "    <tr>\n",
              "      <th>0</th>\n",
              "      <td>Horrible service from New Delhi to Vancouver...</td>\n",
              "      <td>Horrible service from New Delhi to Vancouver...</td>\n",
              "    </tr>\n",
              "    <tr>\n",
              "      <th>1</th>\n",
              "      <td>Newark to Chennai via Mumbai, outstanding se...</td>\n",
              "      <td>Newark to Chennai via Mumbai, outstanding se...</td>\n",
              "    </tr>\n",
              "    <tr>\n",
              "      <th>2</th>\n",
              "      <td>At 0:39 in the morning you are informed a 6 h...</td>\n",
              "      <td>At 0:39 in the morning you are informed a 6 h...</td>\n",
              "    </tr>\n",
              "    <tr>\n",
              "      <th>3</th>\n",
              "      <td>Had one of the worst experiences being a fre...</td>\n",
              "      <td>Had one of the worst experiences being a fre...</td>\n",
              "    </tr>\n",
              "    <tr>\n",
              "      <th>4</th>\n",
              "      <td>Bad treatment, took Air India flt no. 129 on...</td>\n",
              "      <td>Bad treatment, took Air India flt no. 129 on...</td>\n",
              "    </tr>\n",
              "  </tbody>\n",
              "</table>\n",
              "</div>\n",
              "      <button class=\"colab-df-convert\" onclick=\"convertToInteractive('df-a4c2cb56-a173-40a4-a10b-0cd927644bb2')\"\n",
              "              title=\"Convert this dataframe to an interactive table.\"\n",
              "              style=\"display:none;\">\n",
              "\n",
              "  <svg xmlns=\"http://www.w3.org/2000/svg\" height=\"24px\"viewBox=\"0 0 24 24\"\n",
              "       width=\"24px\">\n",
              "    <path d=\"M0 0h24v24H0V0z\" fill=\"none\"/>\n",
              "    <path d=\"M18.56 5.44l.94 2.06.94-2.06 2.06-.94-2.06-.94-.94-2.06-.94 2.06-2.06.94zm-11 1L8.5 8.5l.94-2.06 2.06-.94-2.06-.94L8.5 2.5l-.94 2.06-2.06.94zm10 10l.94 2.06.94-2.06 2.06-.94-2.06-.94-.94-2.06-.94 2.06-2.06.94z\"/><path d=\"M17.41 7.96l-1.37-1.37c-.4-.4-.92-.59-1.43-.59-.52 0-1.04.2-1.43.59L10.3 9.45l-7.72 7.72c-.78.78-.78 2.05 0 2.83L4 21.41c.39.39.9.59 1.41.59.51 0 1.02-.2 1.41-.59l7.78-7.78 2.81-2.81c.8-.78.8-2.07 0-2.86zM5.41 20L4 18.59l7.72-7.72 1.47 1.35L5.41 20z\"/>\n",
              "  </svg>\n",
              "      </button>\n",
              "\n",
              "\n",
              "\n",
              "    <div id=\"df-186f12cf-c3e3-4533-a0e5-987725fc94cc\">\n",
              "      <button class=\"colab-df-quickchart\" onclick=\"quickchart('df-186f12cf-c3e3-4533-a0e5-987725fc94cc')\"\n",
              "              title=\"Suggest charts.\"\n",
              "              style=\"display:none;\">\n",
              "\n",
              "<svg xmlns=\"http://www.w3.org/2000/svg\" height=\"24px\"viewBox=\"0 0 24 24\"\n",
              "     width=\"24px\">\n",
              "    <g>\n",
              "        <path d=\"M19 3H5c-1.1 0-2 .9-2 2v14c0 1.1.9 2 2 2h14c1.1 0 2-.9 2-2V5c0-1.1-.9-2-2-2zM9 17H7v-7h2v7zm4 0h-2V7h2v10zm4 0h-2v-4h2v4z\"/>\n",
              "    </g>\n",
              "</svg>\n",
              "      </button>\n",
              "    </div>\n",
              "\n",
              "<style>\n",
              "  .colab-df-quickchart {\n",
              "    background-color: #E8F0FE;\n",
              "    border: none;\n",
              "    border-radius: 50%;\n",
              "    cursor: pointer;\n",
              "    display: none;\n",
              "    fill: #1967D2;\n",
              "    height: 32px;\n",
              "    padding: 0 0 0 0;\n",
              "    width: 32px;\n",
              "  }\n",
              "\n",
              "  .colab-df-quickchart:hover {\n",
              "    background-color: #E2EBFA;\n",
              "    box-shadow: 0px 1px 2px rgba(60, 64, 67, 0.3), 0px 1px 3px 1px rgba(60, 64, 67, 0.15);\n",
              "    fill: #174EA6;\n",
              "  }\n",
              "\n",
              "  [theme=dark] .colab-df-quickchart {\n",
              "    background-color: #3B4455;\n",
              "    fill: #D2E3FC;\n",
              "  }\n",
              "\n",
              "  [theme=dark] .colab-df-quickchart:hover {\n",
              "    background-color: #434B5C;\n",
              "    box-shadow: 0px 1px 3px 1px rgba(0, 0, 0, 0.15);\n",
              "    filter: drop-shadow(0px 1px 2px rgba(0, 0, 0, 0.3));\n",
              "    fill: #FFFFFF;\n",
              "  }\n",
              "</style>\n",
              "\n",
              "    <script>\n",
              "      async function quickchart(key) {\n",
              "        const containerElement = document.querySelector('#' + key);\n",
              "        const charts = await google.colab.kernel.invokeFunction(\n",
              "            'suggestCharts', [key], {});\n",
              "      }\n",
              "    </script>\n",
              "\n",
              "      <script>\n",
              "\n",
              "function displayQuickchartButton(domScope) {\n",
              "  let quickchartButtonEl =\n",
              "    domScope.querySelector('#df-186f12cf-c3e3-4533-a0e5-987725fc94cc button.colab-df-quickchart');\n",
              "  quickchartButtonEl.style.display =\n",
              "    google.colab.kernel.accessAllowed ? 'block' : 'none';\n",
              "}\n",
              "\n",
              "        displayQuickchartButton(document);\n",
              "      </script>\n",
              "      <style>\n",
              "    .colab-df-container {\n",
              "      display:flex;\n",
              "      flex-wrap:wrap;\n",
              "      gap: 12px;\n",
              "    }\n",
              "\n",
              "    .colab-df-convert {\n",
              "      background-color: #E8F0FE;\n",
              "      border: none;\n",
              "      border-radius: 50%;\n",
              "      cursor: pointer;\n",
              "      display: none;\n",
              "      fill: #1967D2;\n",
              "      height: 32px;\n",
              "      padding: 0 0 0 0;\n",
              "      width: 32px;\n",
              "    }\n",
              "\n",
              "    .colab-df-convert:hover {\n",
              "      background-color: #E2EBFA;\n",
              "      box-shadow: 0px 1px 2px rgba(60, 64, 67, 0.3), 0px 1px 3px 1px rgba(60, 64, 67, 0.15);\n",
              "      fill: #174EA6;\n",
              "    }\n",
              "\n",
              "    [theme=dark] .colab-df-convert {\n",
              "      background-color: #3B4455;\n",
              "      fill: #D2E3FC;\n",
              "    }\n",
              "\n",
              "    [theme=dark] .colab-df-convert:hover {\n",
              "      background-color: #434B5C;\n",
              "      box-shadow: 0px 1px 3px 1px rgba(0, 0, 0, 0.15);\n",
              "      filter: drop-shadow(0px 1px 2px rgba(0, 0, 0, 0.3));\n",
              "      fill: #FFFFFF;\n",
              "    }\n",
              "  </style>\n",
              "\n",
              "      <script>\n",
              "        const buttonEl =\n",
              "          document.querySelector('#df-a4c2cb56-a173-40a4-a10b-0cd927644bb2 button.colab-df-convert');\n",
              "        buttonEl.style.display =\n",
              "          google.colab.kernel.accessAllowed ? 'block' : 'none';\n",
              "\n",
              "        async function convertToInteractive(key) {\n",
              "          const element = document.querySelector('#df-a4c2cb56-a173-40a4-a10b-0cd927644bb2');\n",
              "          const dataTable =\n",
              "            await google.colab.kernel.invokeFunction('convertToInteractive',\n",
              "                                                     [key], {});\n",
              "          if (!dataTable) return;\n",
              "\n",
              "          const docLinkHtml = 'Like what you see? Visit the ' +\n",
              "            '<a target=\"_blank\" href=https://colab.research.google.com/notebooks/data_table.ipynb>data table notebook</a>'\n",
              "            + ' to learn more about interactive tables.';\n",
              "          element.innerHTML = '';\n",
              "          dataTable['output_type'] = 'display_data';\n",
              "          await google.colab.output.renderOutput(dataTable, element);\n",
              "          const docLink = document.createElement('div');\n",
              "          docLink.innerHTML = docLinkHtml;\n",
              "          element.appendChild(docLink);\n",
              "        }\n",
              "      </script>\n",
              "    </div>\n",
              "  </div>\n"
            ]
          },
          "metadata": {},
          "execution_count": 81
        }
      ]
    },
    {
      "cell_type": "markdown",
      "source": [
        "## **Tokenization**"
      ],
      "metadata": {
        "id": "n1dBNU_mKdDR"
      }
    },
    {
      "cell_type": "markdown",
      "source": [
        "#### Tokenization is an essential step in NLP and text processing because it helps convert unstructured text data into a format that can be used for various language processing tasks like sentiment analysis, machine translation, text classification, and more. Each token represents a discrete unit of meaning or information."
      ],
      "metadata": {
        "id": "F5HOwSaAKg9R"
      }
    },
    {
      "cell_type": "code",
      "source": [
        "# Importing Libraries\n",
        "\n",
        "import nltk\n",
        "nltk.download('punkt')\n",
        "from nltk.tokenize import word_tokenize\n",
        "from nltk import pos_tag\n",
        "nltk.download('stopwords')\n",
        "from nltk.corpus import stopwords\n",
        "nltk.download('wordnet')\n",
        "from nltk.corpus import wordnet"
      ],
      "metadata": {
        "id": "DtaR7QV5LMSB",
        "outputId": "36e0db11-c76f-49ac-903f-988aaea0aa14",
        "colab": {
          "base_uri": "https://localhost:8080/"
        }
      },
      "execution_count": 82,
      "outputs": [
        {
          "output_type": "stream",
          "name": "stderr",
          "text": [
            "[nltk_data] Downloading package punkt to /root/nltk_data...\n",
            "[nltk_data]   Package punkt is already up-to-date!\n",
            "[nltk_data] Downloading package stopwords to /root/nltk_data...\n",
            "[nltk_data]   Package stopwords is already up-to-date!\n",
            "[nltk_data] Downloading package wordnet to /root/nltk_data...\n",
            "[nltk_data]   Package wordnet is already up-to-date!\n"
          ]
        }
      ]
    },
    {
      "cell_type": "markdown",
      "source": [
        "## **POS Tagging**"
      ],
      "metadata": {
        "id": "k-pA2Vx3LWsk"
      }
    },
    {
      "cell_type": "markdown",
      "source": [
        "### Part-of-speech (POS) tagging, also known as grammatical tagging or word category disambiguation, is the process of assigning a part-of-speech tag to each word in a sentence or text. it helps in understanding the grammatical structure of a sentence, which is crucial for many NLP applications like information extraction, sentiment analysis, machine translation, and more."
      ],
      "metadata": {
        "id": "bUzo0c9HLrSB"
      }
    },
    {
      "cell_type": "code",
      "source": [
        "nltk.download('omw-1.4')\n",
        "nltk.download('averaged_perceptron_tagger')"
      ],
      "metadata": {
        "id": "Y2kK43n8LbBF",
        "outputId": "26115b4b-4d82-488a-baec-1c1c3ca97715",
        "colab": {
          "base_uri": "https://localhost:8080/"
        }
      },
      "execution_count": 83,
      "outputs": [
        {
          "output_type": "stream",
          "name": "stderr",
          "text": [
            "[nltk_data] Downloading package omw-1.4 to /root/nltk_data...\n",
            "[nltk_data]   Package omw-1.4 is already up-to-date!\n",
            "[nltk_data] Downloading package averaged_perceptron_tagger to\n",
            "[nltk_data]     /root/nltk_data...\n",
            "[nltk_data]   Package averaged_perceptron_tagger is already up-to-\n",
            "[nltk_data]       date!\n"
          ]
        },
        {
          "output_type": "execute_result",
          "data": {
            "text/plain": [
              "True"
            ]
          },
          "metadata": {},
          "execution_count": 83
        }
      ]
    },
    {
      "cell_type": "code",
      "source": [
        "# Converting each token into Tuple\n",
        "pos_dict = {'J':wordnet.ADJ, 'V':wordnet.VERB, 'N':wordnet.NOUN, 'R':wordnet.ADV}\n",
        "def token_stop_pos(text):\n",
        "    tags = pos_tag(word_tokenize(text))\n",
        "    newlist = []\n",
        "    for word, tag in tags:\n",
        "        if word.lower() not in set(stopwords.words('english')):\n",
        "          newlist.append(tuple([word, pos_dict.get(tag[0])]))\n",
        "    return newlist\n",
        "\n",
        "\n",
        "df['POS tagged'] = df['clean_data'].apply(token_stop_pos)\n",
        "df.head()"
      ],
      "metadata": {
        "id": "Z5LPE6UkL5Qc",
        "outputId": "5bd13726-c819-41cd-96d0-71fb988c5c7f",
        "colab": {
          "base_uri": "https://localhost:8080/",
          "height": 206
        }
      },
      "execution_count": 84,
      "outputs": [
        {
          "output_type": "execute_result",
          "data": {
            "text/plain": [
              "                                                data  \\\n",
              "0    Horrible service from New Delhi to Vancouver...   \n",
              "1    Newark to Chennai via Mumbai, outstanding se...   \n",
              "2   At 0:39 in the morning you are informed a 6 h...   \n",
              "3    Had one of the worst experiences being a fre...   \n",
              "4    Bad treatment, took Air India flt no. 129 on...   \n",
              "\n",
              "                                          clean_data  \\\n",
              "0    Horrible service from New Delhi to Vancouver...   \n",
              "1    Newark to Chennai via Mumbai, outstanding se...   \n",
              "2   At 0:39 in the morning you are informed a 6 h...   \n",
              "3    Had one of the worst experiences being a fre...   \n",
              "4    Bad treatment, took Air India flt no. 129 on...   \n",
              "\n",
              "                                          POS tagged  \n",
              "0  [(Horrible, a), (service, n), (New, n), (Delhi...  \n",
              "1  [(Newark, n), (Chennai, n), (via, None), (Mumb...  \n",
              "2  [(0:39, None), (morning, n), (informed, v), (6...  \n",
              "3  [(one, None), (worst, a), (experiences, n), (f...  \n",
              "4  [(Bad, n), (treatment, n), (,, None), (took, v...  "
            ],
            "text/html": [
              "\n",
              "\n",
              "  <div id=\"df-ee23b6b2-c2ab-44c7-a566-2edf1fc7477f\">\n",
              "    <div class=\"colab-df-container\">\n",
              "      <div>\n",
              "<style scoped>\n",
              "    .dataframe tbody tr th:only-of-type {\n",
              "        vertical-align: middle;\n",
              "    }\n",
              "\n",
              "    .dataframe tbody tr th {\n",
              "        vertical-align: top;\n",
              "    }\n",
              "\n",
              "    .dataframe thead th {\n",
              "        text-align: right;\n",
              "    }\n",
              "</style>\n",
              "<table border=\"1\" class=\"dataframe\">\n",
              "  <thead>\n",
              "    <tr style=\"text-align: right;\">\n",
              "      <th></th>\n",
              "      <th>data</th>\n",
              "      <th>clean_data</th>\n",
              "      <th>POS tagged</th>\n",
              "    </tr>\n",
              "  </thead>\n",
              "  <tbody>\n",
              "    <tr>\n",
              "      <th>0</th>\n",
              "      <td>Horrible service from New Delhi to Vancouver...</td>\n",
              "      <td>Horrible service from New Delhi to Vancouver...</td>\n",
              "      <td>[(Horrible, a), (service, n), (New, n), (Delhi...</td>\n",
              "    </tr>\n",
              "    <tr>\n",
              "      <th>1</th>\n",
              "      <td>Newark to Chennai via Mumbai, outstanding se...</td>\n",
              "      <td>Newark to Chennai via Mumbai, outstanding se...</td>\n",
              "      <td>[(Newark, n), (Chennai, n), (via, None), (Mumb...</td>\n",
              "    </tr>\n",
              "    <tr>\n",
              "      <th>2</th>\n",
              "      <td>At 0:39 in the morning you are informed a 6 h...</td>\n",
              "      <td>At 0:39 in the morning you are informed a 6 h...</td>\n",
              "      <td>[(0:39, None), (morning, n), (informed, v), (6...</td>\n",
              "    </tr>\n",
              "    <tr>\n",
              "      <th>3</th>\n",
              "      <td>Had one of the worst experiences being a fre...</td>\n",
              "      <td>Had one of the worst experiences being a fre...</td>\n",
              "      <td>[(one, None), (worst, a), (experiences, n), (f...</td>\n",
              "    </tr>\n",
              "    <tr>\n",
              "      <th>4</th>\n",
              "      <td>Bad treatment, took Air India flt no. 129 on...</td>\n",
              "      <td>Bad treatment, took Air India flt no. 129 on...</td>\n",
              "      <td>[(Bad, n), (treatment, n), (,, None), (took, v...</td>\n",
              "    </tr>\n",
              "  </tbody>\n",
              "</table>\n",
              "</div>\n",
              "      <button class=\"colab-df-convert\" onclick=\"convertToInteractive('df-ee23b6b2-c2ab-44c7-a566-2edf1fc7477f')\"\n",
              "              title=\"Convert this dataframe to an interactive table.\"\n",
              "              style=\"display:none;\">\n",
              "\n",
              "  <svg xmlns=\"http://www.w3.org/2000/svg\" height=\"24px\"viewBox=\"0 0 24 24\"\n",
              "       width=\"24px\">\n",
              "    <path d=\"M0 0h24v24H0V0z\" fill=\"none\"/>\n",
              "    <path d=\"M18.56 5.44l.94 2.06.94-2.06 2.06-.94-2.06-.94-.94-2.06-.94 2.06-2.06.94zm-11 1L8.5 8.5l.94-2.06 2.06-.94-2.06-.94L8.5 2.5l-.94 2.06-2.06.94zm10 10l.94 2.06.94-2.06 2.06-.94-2.06-.94-.94-2.06-.94 2.06-2.06.94z\"/><path d=\"M17.41 7.96l-1.37-1.37c-.4-.4-.92-.59-1.43-.59-.52 0-1.04.2-1.43.59L10.3 9.45l-7.72 7.72c-.78.78-.78 2.05 0 2.83L4 21.41c.39.39.9.59 1.41.59.51 0 1.02-.2 1.41-.59l7.78-7.78 2.81-2.81c.8-.78.8-2.07 0-2.86zM5.41 20L4 18.59l7.72-7.72 1.47 1.35L5.41 20z\"/>\n",
              "  </svg>\n",
              "      </button>\n",
              "\n",
              "\n",
              "\n",
              "    <div id=\"df-77d06476-e716-4085-8ca0-9a04e4fe09ff\">\n",
              "      <button class=\"colab-df-quickchart\" onclick=\"quickchart('df-77d06476-e716-4085-8ca0-9a04e4fe09ff')\"\n",
              "              title=\"Suggest charts.\"\n",
              "              style=\"display:none;\">\n",
              "\n",
              "<svg xmlns=\"http://www.w3.org/2000/svg\" height=\"24px\"viewBox=\"0 0 24 24\"\n",
              "     width=\"24px\">\n",
              "    <g>\n",
              "        <path d=\"M19 3H5c-1.1 0-2 .9-2 2v14c0 1.1.9 2 2 2h14c1.1 0 2-.9 2-2V5c0-1.1-.9-2-2-2zM9 17H7v-7h2v7zm4 0h-2V7h2v10zm4 0h-2v-4h2v4z\"/>\n",
              "    </g>\n",
              "</svg>\n",
              "      </button>\n",
              "    </div>\n",
              "\n",
              "<style>\n",
              "  .colab-df-quickchart {\n",
              "    background-color: #E8F0FE;\n",
              "    border: none;\n",
              "    border-radius: 50%;\n",
              "    cursor: pointer;\n",
              "    display: none;\n",
              "    fill: #1967D2;\n",
              "    height: 32px;\n",
              "    padding: 0 0 0 0;\n",
              "    width: 32px;\n",
              "  }\n",
              "\n",
              "  .colab-df-quickchart:hover {\n",
              "    background-color: #E2EBFA;\n",
              "    box-shadow: 0px 1px 2px rgba(60, 64, 67, 0.3), 0px 1px 3px 1px rgba(60, 64, 67, 0.15);\n",
              "    fill: #174EA6;\n",
              "  }\n",
              "\n",
              "  [theme=dark] .colab-df-quickchart {\n",
              "    background-color: #3B4455;\n",
              "    fill: #D2E3FC;\n",
              "  }\n",
              "\n",
              "  [theme=dark] .colab-df-quickchart:hover {\n",
              "    background-color: #434B5C;\n",
              "    box-shadow: 0px 1px 3px 1px rgba(0, 0, 0, 0.15);\n",
              "    filter: drop-shadow(0px 1px 2px rgba(0, 0, 0, 0.3));\n",
              "    fill: #FFFFFF;\n",
              "  }\n",
              "</style>\n",
              "\n",
              "    <script>\n",
              "      async function quickchart(key) {\n",
              "        const containerElement = document.querySelector('#' + key);\n",
              "        const charts = await google.colab.kernel.invokeFunction(\n",
              "            'suggestCharts', [key], {});\n",
              "      }\n",
              "    </script>\n",
              "\n",
              "      <script>\n",
              "\n",
              "function displayQuickchartButton(domScope) {\n",
              "  let quickchartButtonEl =\n",
              "    domScope.querySelector('#df-77d06476-e716-4085-8ca0-9a04e4fe09ff button.colab-df-quickchart');\n",
              "  quickchartButtonEl.style.display =\n",
              "    google.colab.kernel.accessAllowed ? 'block' : 'none';\n",
              "}\n",
              "\n",
              "        displayQuickchartButton(document);\n",
              "      </script>\n",
              "      <style>\n",
              "    .colab-df-container {\n",
              "      display:flex;\n",
              "      flex-wrap:wrap;\n",
              "      gap: 12px;\n",
              "    }\n",
              "\n",
              "    .colab-df-convert {\n",
              "      background-color: #E8F0FE;\n",
              "      border: none;\n",
              "      border-radius: 50%;\n",
              "      cursor: pointer;\n",
              "      display: none;\n",
              "      fill: #1967D2;\n",
              "      height: 32px;\n",
              "      padding: 0 0 0 0;\n",
              "      width: 32px;\n",
              "    }\n",
              "\n",
              "    .colab-df-convert:hover {\n",
              "      background-color: #E2EBFA;\n",
              "      box-shadow: 0px 1px 2px rgba(60, 64, 67, 0.3), 0px 1px 3px 1px rgba(60, 64, 67, 0.15);\n",
              "      fill: #174EA6;\n",
              "    }\n",
              "\n",
              "    [theme=dark] .colab-df-convert {\n",
              "      background-color: #3B4455;\n",
              "      fill: #D2E3FC;\n",
              "    }\n",
              "\n",
              "    [theme=dark] .colab-df-convert:hover {\n",
              "      background-color: #434B5C;\n",
              "      box-shadow: 0px 1px 3px 1px rgba(0, 0, 0, 0.15);\n",
              "      filter: drop-shadow(0px 1px 2px rgba(0, 0, 0, 0.3));\n",
              "      fill: #FFFFFF;\n",
              "    }\n",
              "  </style>\n",
              "\n",
              "      <script>\n",
              "        const buttonEl =\n",
              "          document.querySelector('#df-ee23b6b2-c2ab-44c7-a566-2edf1fc7477f button.colab-df-convert');\n",
              "        buttonEl.style.display =\n",
              "          google.colab.kernel.accessAllowed ? 'block' : 'none';\n",
              "\n",
              "        async function convertToInteractive(key) {\n",
              "          const element = document.querySelector('#df-ee23b6b2-c2ab-44c7-a566-2edf1fc7477f');\n",
              "          const dataTable =\n",
              "            await google.colab.kernel.invokeFunction('convertToInteractive',\n",
              "                                                     [key], {});\n",
              "          if (!dataTable) return;\n",
              "\n",
              "          const docLinkHtml = 'Like what you see? Visit the ' +\n",
              "            '<a target=\"_blank\" href=https://colab.research.google.com/notebooks/data_table.ipynb>data table notebook</a>'\n",
              "            + ' to learn more about interactive tables.';\n",
              "          element.innerHTML = '';\n",
              "          dataTable['output_type'] = 'display_data';\n",
              "          await google.colab.output.renderOutput(dataTable, element);\n",
              "          const docLink = document.createElement('div');\n",
              "          docLink.innerHTML = docLinkHtml;\n",
              "          element.appendChild(docLink);\n",
              "        }\n",
              "      </script>\n",
              "    </div>\n",
              "  </div>\n"
            ]
          },
          "metadata": {},
          "execution_count": 84
        }
      ]
    },
    {
      "cell_type": "markdown",
      "source": [
        "## **Lemmatization (Lemma)**"
      ],
      "metadata": {
        "id": "S2R01lMfMLAO"
      }
    },
    {
      "cell_type": "markdown",
      "source": [
        "#### In natural language processing (NLP), lemma refers to the base or root form of a word. It is the canonical or dictionary form of a word, to which inflections and variations are added. For example, the lemma of the word \"running\" is \"run,\" and the lemma of \"cats\" is \"cat.\""
      ],
      "metadata": {
        "id": "aEapvmd4MPLF"
      }
    },
    {
      "cell_type": "code",
      "source": [
        "from nltk.stem import WordNetLemmatizer\n",
        "\n",
        "wordnet_lemmatizer = WordNetLemmatizer()"
      ],
      "metadata": {
        "id": "Q-o8iKptMVLT"
      },
      "execution_count": 85,
      "outputs": []
    },
    {
      "cell_type": "code",
      "source": [
        "# grouping the words\n",
        "def lemmatize(pos_data):\n",
        "    lemma_rew = \" \"\n",
        "    for word, pos in pos_data:\n",
        "     if not pos:\n",
        "        lemma = word\n",
        "        lemma_rew = lemma_rew + \" \" + lemma\n",
        "     else:\n",
        "        lemma = wordnet_lemmatizer.lemmatize(word, pos=pos)\n",
        "        lemma_rew = lemma_rew + \" \" + lemma\n",
        "    return lemma_rew\n",
        "\n",
        "\n",
        "df['Lemma'] = df['POS tagged'].apply(lemmatize)\n",
        "df.head()"
      ],
      "metadata": {
        "id": "0YwAgzhnMevF",
        "outputId": "2ec79dab-b08b-45d5-f684-4abf0f4b23c2",
        "colab": {
          "base_uri": "https://localhost:8080/",
          "height": 337
        }
      },
      "execution_count": 86,
      "outputs": [
        {
          "output_type": "execute_result",
          "data": {
            "text/plain": [
              "                                                data  \\\n",
              "0    Horrible service from New Delhi to Vancouver...   \n",
              "1    Newark to Chennai via Mumbai, outstanding se...   \n",
              "2   At 0:39 in the morning you are informed a 6 h...   \n",
              "3    Had one of the worst experiences being a fre...   \n",
              "4    Bad treatment, took Air India flt no. 129 on...   \n",
              "\n",
              "                                          clean_data  \\\n",
              "0    Horrible service from New Delhi to Vancouver...   \n",
              "1    Newark to Chennai via Mumbai, outstanding se...   \n",
              "2   At 0:39 in the morning you are informed a 6 h...   \n",
              "3    Had one of the worst experiences being a fre...   \n",
              "4    Bad treatment, took Air India flt no. 129 on...   \n",
              "\n",
              "                                          POS tagged  \\\n",
              "0  [(Horrible, a), (service, n), (New, n), (Delhi...   \n",
              "1  [(Newark, n), (Chennai, n), (via, None), (Mumb...   \n",
              "2  [(0:39, None), (morning, n), (informed, v), (6...   \n",
              "3  [(one, None), (worst, a), (experiences, n), (f...   \n",
              "4  [(Bad, n), (treatment, n), (,, None), (took, v...   \n",
              "\n",
              "                                               Lemma  \n",
              "0    Horrible service New Delhi Vancouver 20th Ju...  \n",
              "1    Newark Chennai via Mumbai , outstanding serv...  \n",
              "2    0:39 morning inform 6 hour delay connect fli...  \n",
              "3    one bad experience frequent flyer . flight B...  \n",
              "4    Bad treatment , take Air India flt . 129 15t...  "
            ],
            "text/html": [
              "\n",
              "\n",
              "  <div id=\"df-03818898-df38-4885-bcb1-7026dfdddd43\">\n",
              "    <div class=\"colab-df-container\">\n",
              "      <div>\n",
              "<style scoped>\n",
              "    .dataframe tbody tr th:only-of-type {\n",
              "        vertical-align: middle;\n",
              "    }\n",
              "\n",
              "    .dataframe tbody tr th {\n",
              "        vertical-align: top;\n",
              "    }\n",
              "\n",
              "    .dataframe thead th {\n",
              "        text-align: right;\n",
              "    }\n",
              "</style>\n",
              "<table border=\"1\" class=\"dataframe\">\n",
              "  <thead>\n",
              "    <tr style=\"text-align: right;\">\n",
              "      <th></th>\n",
              "      <th>data</th>\n",
              "      <th>clean_data</th>\n",
              "      <th>POS tagged</th>\n",
              "      <th>Lemma</th>\n",
              "    </tr>\n",
              "  </thead>\n",
              "  <tbody>\n",
              "    <tr>\n",
              "      <th>0</th>\n",
              "      <td>Horrible service from New Delhi to Vancouver...</td>\n",
              "      <td>Horrible service from New Delhi to Vancouver...</td>\n",
              "      <td>[(Horrible, a), (service, n), (New, n), (Delhi...</td>\n",
              "      <td>Horrible service New Delhi Vancouver 20th Ju...</td>\n",
              "    </tr>\n",
              "    <tr>\n",
              "      <th>1</th>\n",
              "      <td>Newark to Chennai via Mumbai, outstanding se...</td>\n",
              "      <td>Newark to Chennai via Mumbai, outstanding se...</td>\n",
              "      <td>[(Newark, n), (Chennai, n), (via, None), (Mumb...</td>\n",
              "      <td>Newark Chennai via Mumbai , outstanding serv...</td>\n",
              "    </tr>\n",
              "    <tr>\n",
              "      <th>2</th>\n",
              "      <td>At 0:39 in the morning you are informed a 6 h...</td>\n",
              "      <td>At 0:39 in the morning you are informed a 6 h...</td>\n",
              "      <td>[(0:39, None), (morning, n), (informed, v), (6...</td>\n",
              "      <td>0:39 morning inform 6 hour delay connect fli...</td>\n",
              "    </tr>\n",
              "    <tr>\n",
              "      <th>3</th>\n",
              "      <td>Had one of the worst experiences being a fre...</td>\n",
              "      <td>Had one of the worst experiences being a fre...</td>\n",
              "      <td>[(one, None), (worst, a), (experiences, n), (f...</td>\n",
              "      <td>one bad experience frequent flyer . flight B...</td>\n",
              "    </tr>\n",
              "    <tr>\n",
              "      <th>4</th>\n",
              "      <td>Bad treatment, took Air India flt no. 129 on...</td>\n",
              "      <td>Bad treatment, took Air India flt no. 129 on...</td>\n",
              "      <td>[(Bad, n), (treatment, n), (,, None), (took, v...</td>\n",
              "      <td>Bad treatment , take Air India flt . 129 15t...</td>\n",
              "    </tr>\n",
              "  </tbody>\n",
              "</table>\n",
              "</div>\n",
              "      <button class=\"colab-df-convert\" onclick=\"convertToInteractive('df-03818898-df38-4885-bcb1-7026dfdddd43')\"\n",
              "              title=\"Convert this dataframe to an interactive table.\"\n",
              "              style=\"display:none;\">\n",
              "\n",
              "  <svg xmlns=\"http://www.w3.org/2000/svg\" height=\"24px\"viewBox=\"0 0 24 24\"\n",
              "       width=\"24px\">\n",
              "    <path d=\"M0 0h24v24H0V0z\" fill=\"none\"/>\n",
              "    <path d=\"M18.56 5.44l.94 2.06.94-2.06 2.06-.94-2.06-.94-.94-2.06-.94 2.06-2.06.94zm-11 1L8.5 8.5l.94-2.06 2.06-.94-2.06-.94L8.5 2.5l-.94 2.06-2.06.94zm10 10l.94 2.06.94-2.06 2.06-.94-2.06-.94-.94-2.06-.94 2.06-2.06.94z\"/><path d=\"M17.41 7.96l-1.37-1.37c-.4-.4-.92-.59-1.43-.59-.52 0-1.04.2-1.43.59L10.3 9.45l-7.72 7.72c-.78.78-.78 2.05 0 2.83L4 21.41c.39.39.9.59 1.41.59.51 0 1.02-.2 1.41-.59l7.78-7.78 2.81-2.81c.8-.78.8-2.07 0-2.86zM5.41 20L4 18.59l7.72-7.72 1.47 1.35L5.41 20z\"/>\n",
              "  </svg>\n",
              "      </button>\n",
              "\n",
              "\n",
              "\n",
              "    <div id=\"df-ec18235d-7858-4285-a4bf-e89212310e14\">\n",
              "      <button class=\"colab-df-quickchart\" onclick=\"quickchart('df-ec18235d-7858-4285-a4bf-e89212310e14')\"\n",
              "              title=\"Suggest charts.\"\n",
              "              style=\"display:none;\">\n",
              "\n",
              "<svg xmlns=\"http://www.w3.org/2000/svg\" height=\"24px\"viewBox=\"0 0 24 24\"\n",
              "     width=\"24px\">\n",
              "    <g>\n",
              "        <path d=\"M19 3H5c-1.1 0-2 .9-2 2v14c0 1.1.9 2 2 2h14c1.1 0 2-.9 2-2V5c0-1.1-.9-2-2-2zM9 17H7v-7h2v7zm4 0h-2V7h2v10zm4 0h-2v-4h2v4z\"/>\n",
              "    </g>\n",
              "</svg>\n",
              "      </button>\n",
              "    </div>\n",
              "\n",
              "<style>\n",
              "  .colab-df-quickchart {\n",
              "    background-color: #E8F0FE;\n",
              "    border: none;\n",
              "    border-radius: 50%;\n",
              "    cursor: pointer;\n",
              "    display: none;\n",
              "    fill: #1967D2;\n",
              "    height: 32px;\n",
              "    padding: 0 0 0 0;\n",
              "    width: 32px;\n",
              "  }\n",
              "\n",
              "  .colab-df-quickchart:hover {\n",
              "    background-color: #E2EBFA;\n",
              "    box-shadow: 0px 1px 2px rgba(60, 64, 67, 0.3), 0px 1px 3px 1px rgba(60, 64, 67, 0.15);\n",
              "    fill: #174EA6;\n",
              "  }\n",
              "\n",
              "  [theme=dark] .colab-df-quickchart {\n",
              "    background-color: #3B4455;\n",
              "    fill: #D2E3FC;\n",
              "  }\n",
              "\n",
              "  [theme=dark] .colab-df-quickchart:hover {\n",
              "    background-color: #434B5C;\n",
              "    box-shadow: 0px 1px 3px 1px rgba(0, 0, 0, 0.15);\n",
              "    filter: drop-shadow(0px 1px 2px rgba(0, 0, 0, 0.3));\n",
              "    fill: #FFFFFF;\n",
              "  }\n",
              "</style>\n",
              "\n",
              "    <script>\n",
              "      async function quickchart(key) {\n",
              "        const containerElement = document.querySelector('#' + key);\n",
              "        const charts = await google.colab.kernel.invokeFunction(\n",
              "            'suggestCharts', [key], {});\n",
              "      }\n",
              "    </script>\n",
              "\n",
              "      <script>\n",
              "\n",
              "function displayQuickchartButton(domScope) {\n",
              "  let quickchartButtonEl =\n",
              "    domScope.querySelector('#df-ec18235d-7858-4285-a4bf-e89212310e14 button.colab-df-quickchart');\n",
              "  quickchartButtonEl.style.display =\n",
              "    google.colab.kernel.accessAllowed ? 'block' : 'none';\n",
              "}\n",
              "\n",
              "        displayQuickchartButton(document);\n",
              "      </script>\n",
              "      <style>\n",
              "    .colab-df-container {\n",
              "      display:flex;\n",
              "      flex-wrap:wrap;\n",
              "      gap: 12px;\n",
              "    }\n",
              "\n",
              "    .colab-df-convert {\n",
              "      background-color: #E8F0FE;\n",
              "      border: none;\n",
              "      border-radius: 50%;\n",
              "      cursor: pointer;\n",
              "      display: none;\n",
              "      fill: #1967D2;\n",
              "      height: 32px;\n",
              "      padding: 0 0 0 0;\n",
              "      width: 32px;\n",
              "    }\n",
              "\n",
              "    .colab-df-convert:hover {\n",
              "      background-color: #E2EBFA;\n",
              "      box-shadow: 0px 1px 2px rgba(60, 64, 67, 0.3), 0px 1px 3px 1px rgba(60, 64, 67, 0.15);\n",
              "      fill: #174EA6;\n",
              "    }\n",
              "\n",
              "    [theme=dark] .colab-df-convert {\n",
              "      background-color: #3B4455;\n",
              "      fill: #D2E3FC;\n",
              "    }\n",
              "\n",
              "    [theme=dark] .colab-df-convert:hover {\n",
              "      background-color: #434B5C;\n",
              "      box-shadow: 0px 1px 3px 1px rgba(0, 0, 0, 0.15);\n",
              "      filter: drop-shadow(0px 1px 2px rgba(0, 0, 0, 0.3));\n",
              "      fill: #FFFFFF;\n",
              "    }\n",
              "  </style>\n",
              "\n",
              "      <script>\n",
              "        const buttonEl =\n",
              "          document.querySelector('#df-03818898-df38-4885-bcb1-7026dfdddd43 button.colab-df-convert');\n",
              "        buttonEl.style.display =\n",
              "          google.colab.kernel.accessAllowed ? 'block' : 'none';\n",
              "\n",
              "        async function convertToInteractive(key) {\n",
              "          const element = document.querySelector('#df-03818898-df38-4885-bcb1-7026dfdddd43');\n",
              "          const dataTable =\n",
              "            await google.colab.kernel.invokeFunction('convertToInteractive',\n",
              "                                                     [key], {});\n",
              "          if (!dataTable) return;\n",
              "\n",
              "          const docLinkHtml = 'Like what you see? Visit the ' +\n",
              "            '<a target=\"_blank\" href=https://colab.research.google.com/notebooks/data_table.ipynb>data table notebook</a>'\n",
              "            + ' to learn more about interactive tables.';\n",
              "          element.innerHTML = '';\n",
              "          dataTable['output_type'] = 'display_data';\n",
              "          await google.colab.output.renderOutput(dataTable, element);\n",
              "          const docLink = document.createElement('div');\n",
              "          docLink.innerHTML = docLinkHtml;\n",
              "          element.appendChild(docLink);\n",
              "        }\n",
              "      </script>\n",
              "    </div>\n",
              "  </div>\n"
            ]
          },
          "metadata": {},
          "execution_count": 86
        }
      ]
    },
    {
      "cell_type": "code",
      "source": [
        "df[['data','Lemma']]"
      ],
      "metadata": {
        "id": "7-rs9myKMmd0",
        "outputId": "5f802a41-04b3-4bc5-fbd9-a01df0522296",
        "colab": {
          "base_uri": "https://localhost:8080/",
          "height": 423
        }
      },
      "execution_count": 87,
      "outputs": [
        {
          "output_type": "execute_result",
          "data": {
            "text/plain": [
              "                                                  data  \\\n",
              "0      Horrible service from New Delhi to Vancouver...   \n",
              "1      Newark to Chennai via Mumbai, outstanding se...   \n",
              "2     At 0:39 in the morning you are informed a 6 h...   \n",
              "3      Had one of the worst experiences being a fre...   \n",
              "4      Bad treatment, took Air India flt no. 129 on...   \n",
              "..                                                 ...   \n",
              "995                                               None   \n",
              "996                                               None   \n",
              "997                                               None   \n",
              "998                                               None   \n",
              "999                                               None   \n",
              "\n",
              "                                                 Lemma  \n",
              "0      Horrible service New Delhi Vancouver 20th Ju...  \n",
              "1      Newark Chennai via Mumbai , outstanding serv...  \n",
              "2      0:39 morning inform 6 hour delay connect fli...  \n",
              "3      one bad experience frequent flyer . flight B...  \n",
              "4      Bad treatment , take Air India flt . 129 15t...  \n",
              "..                                                 ...  \n",
              "995                                               None  \n",
              "996                                               None  \n",
              "997                                               None  \n",
              "998                                               None  \n",
              "999                                               None  \n",
              "\n",
              "[1000 rows x 2 columns]"
            ],
            "text/html": [
              "\n",
              "\n",
              "  <div id=\"df-d7e8e2ca-566e-4bf2-ac24-069d66503e7f\">\n",
              "    <div class=\"colab-df-container\">\n",
              "      <div>\n",
              "<style scoped>\n",
              "    .dataframe tbody tr th:only-of-type {\n",
              "        vertical-align: middle;\n",
              "    }\n",
              "\n",
              "    .dataframe tbody tr th {\n",
              "        vertical-align: top;\n",
              "    }\n",
              "\n",
              "    .dataframe thead th {\n",
              "        text-align: right;\n",
              "    }\n",
              "</style>\n",
              "<table border=\"1\" class=\"dataframe\">\n",
              "  <thead>\n",
              "    <tr style=\"text-align: right;\">\n",
              "      <th></th>\n",
              "      <th>data</th>\n",
              "      <th>Lemma</th>\n",
              "    </tr>\n",
              "  </thead>\n",
              "  <tbody>\n",
              "    <tr>\n",
              "      <th>0</th>\n",
              "      <td>Horrible service from New Delhi to Vancouver...</td>\n",
              "      <td>Horrible service New Delhi Vancouver 20th Ju...</td>\n",
              "    </tr>\n",
              "    <tr>\n",
              "      <th>1</th>\n",
              "      <td>Newark to Chennai via Mumbai, outstanding se...</td>\n",
              "      <td>Newark Chennai via Mumbai , outstanding serv...</td>\n",
              "    </tr>\n",
              "    <tr>\n",
              "      <th>2</th>\n",
              "      <td>At 0:39 in the morning you are informed a 6 h...</td>\n",
              "      <td>0:39 morning inform 6 hour delay connect fli...</td>\n",
              "    </tr>\n",
              "    <tr>\n",
              "      <th>3</th>\n",
              "      <td>Had one of the worst experiences being a fre...</td>\n",
              "      <td>one bad experience frequent flyer . flight B...</td>\n",
              "    </tr>\n",
              "    <tr>\n",
              "      <th>4</th>\n",
              "      <td>Bad treatment, took Air India flt no. 129 on...</td>\n",
              "      <td>Bad treatment , take Air India flt . 129 15t...</td>\n",
              "    </tr>\n",
              "    <tr>\n",
              "      <th>...</th>\n",
              "      <td>...</td>\n",
              "      <td>...</td>\n",
              "    </tr>\n",
              "    <tr>\n",
              "      <th>995</th>\n",
              "      <td>None</td>\n",
              "      <td>None</td>\n",
              "    </tr>\n",
              "    <tr>\n",
              "      <th>996</th>\n",
              "      <td>None</td>\n",
              "      <td>None</td>\n",
              "    </tr>\n",
              "    <tr>\n",
              "      <th>997</th>\n",
              "      <td>None</td>\n",
              "      <td>None</td>\n",
              "    </tr>\n",
              "    <tr>\n",
              "      <th>998</th>\n",
              "      <td>None</td>\n",
              "      <td>None</td>\n",
              "    </tr>\n",
              "    <tr>\n",
              "      <th>999</th>\n",
              "      <td>None</td>\n",
              "      <td>None</td>\n",
              "    </tr>\n",
              "  </tbody>\n",
              "</table>\n",
              "<p>1000 rows × 2 columns</p>\n",
              "</div>\n",
              "      <button class=\"colab-df-convert\" onclick=\"convertToInteractive('df-d7e8e2ca-566e-4bf2-ac24-069d66503e7f')\"\n",
              "              title=\"Convert this dataframe to an interactive table.\"\n",
              "              style=\"display:none;\">\n",
              "\n",
              "  <svg xmlns=\"http://www.w3.org/2000/svg\" height=\"24px\"viewBox=\"0 0 24 24\"\n",
              "       width=\"24px\">\n",
              "    <path d=\"M0 0h24v24H0V0z\" fill=\"none\"/>\n",
              "    <path d=\"M18.56 5.44l.94 2.06.94-2.06 2.06-.94-2.06-.94-.94-2.06-.94 2.06-2.06.94zm-11 1L8.5 8.5l.94-2.06 2.06-.94-2.06-.94L8.5 2.5l-.94 2.06-2.06.94zm10 10l.94 2.06.94-2.06 2.06-.94-2.06-.94-.94-2.06-.94 2.06-2.06.94z\"/><path d=\"M17.41 7.96l-1.37-1.37c-.4-.4-.92-.59-1.43-.59-.52 0-1.04.2-1.43.59L10.3 9.45l-7.72 7.72c-.78.78-.78 2.05 0 2.83L4 21.41c.39.39.9.59 1.41.59.51 0 1.02-.2 1.41-.59l7.78-7.78 2.81-2.81c.8-.78.8-2.07 0-2.86zM5.41 20L4 18.59l7.72-7.72 1.47 1.35L5.41 20z\"/>\n",
              "  </svg>\n",
              "      </button>\n",
              "\n",
              "\n",
              "\n",
              "    <div id=\"df-f0dbd570-f95a-46fb-93d5-2ce89b4b42f2\">\n",
              "      <button class=\"colab-df-quickchart\" onclick=\"quickchart('df-f0dbd570-f95a-46fb-93d5-2ce89b4b42f2')\"\n",
              "              title=\"Suggest charts.\"\n",
              "              style=\"display:none;\">\n",
              "\n",
              "<svg xmlns=\"http://www.w3.org/2000/svg\" height=\"24px\"viewBox=\"0 0 24 24\"\n",
              "     width=\"24px\">\n",
              "    <g>\n",
              "        <path d=\"M19 3H5c-1.1 0-2 .9-2 2v14c0 1.1.9 2 2 2h14c1.1 0 2-.9 2-2V5c0-1.1-.9-2-2-2zM9 17H7v-7h2v7zm4 0h-2V7h2v10zm4 0h-2v-4h2v4z\"/>\n",
              "    </g>\n",
              "</svg>\n",
              "      </button>\n",
              "    </div>\n",
              "\n",
              "<style>\n",
              "  .colab-df-quickchart {\n",
              "    background-color: #E8F0FE;\n",
              "    border: none;\n",
              "    border-radius: 50%;\n",
              "    cursor: pointer;\n",
              "    display: none;\n",
              "    fill: #1967D2;\n",
              "    height: 32px;\n",
              "    padding: 0 0 0 0;\n",
              "    width: 32px;\n",
              "  }\n",
              "\n",
              "  .colab-df-quickchart:hover {\n",
              "    background-color: #E2EBFA;\n",
              "    box-shadow: 0px 1px 2px rgba(60, 64, 67, 0.3), 0px 1px 3px 1px rgba(60, 64, 67, 0.15);\n",
              "    fill: #174EA6;\n",
              "  }\n",
              "\n",
              "  [theme=dark] .colab-df-quickchart {\n",
              "    background-color: #3B4455;\n",
              "    fill: #D2E3FC;\n",
              "  }\n",
              "\n",
              "  [theme=dark] .colab-df-quickchart:hover {\n",
              "    background-color: #434B5C;\n",
              "    box-shadow: 0px 1px 3px 1px rgba(0, 0, 0, 0.15);\n",
              "    filter: drop-shadow(0px 1px 2px rgba(0, 0, 0, 0.3));\n",
              "    fill: #FFFFFF;\n",
              "  }\n",
              "</style>\n",
              "\n",
              "    <script>\n",
              "      async function quickchart(key) {\n",
              "        const containerElement = document.querySelector('#' + key);\n",
              "        const charts = await google.colab.kernel.invokeFunction(\n",
              "            'suggestCharts', [key], {});\n",
              "      }\n",
              "    </script>\n",
              "\n",
              "      <script>\n",
              "\n",
              "function displayQuickchartButton(domScope) {\n",
              "  let quickchartButtonEl =\n",
              "    domScope.querySelector('#df-f0dbd570-f95a-46fb-93d5-2ce89b4b42f2 button.colab-df-quickchart');\n",
              "  quickchartButtonEl.style.display =\n",
              "    google.colab.kernel.accessAllowed ? 'block' : 'none';\n",
              "}\n",
              "\n",
              "        displayQuickchartButton(document);\n",
              "      </script>\n",
              "      <style>\n",
              "    .colab-df-container {\n",
              "      display:flex;\n",
              "      flex-wrap:wrap;\n",
              "      gap: 12px;\n",
              "    }\n",
              "\n",
              "    .colab-df-convert {\n",
              "      background-color: #E8F0FE;\n",
              "      border: none;\n",
              "      border-radius: 50%;\n",
              "      cursor: pointer;\n",
              "      display: none;\n",
              "      fill: #1967D2;\n",
              "      height: 32px;\n",
              "      padding: 0 0 0 0;\n",
              "      width: 32px;\n",
              "    }\n",
              "\n",
              "    .colab-df-convert:hover {\n",
              "      background-color: #E2EBFA;\n",
              "      box-shadow: 0px 1px 2px rgba(60, 64, 67, 0.3), 0px 1px 3px 1px rgba(60, 64, 67, 0.15);\n",
              "      fill: #174EA6;\n",
              "    }\n",
              "\n",
              "    [theme=dark] .colab-df-convert {\n",
              "      background-color: #3B4455;\n",
              "      fill: #D2E3FC;\n",
              "    }\n",
              "\n",
              "    [theme=dark] .colab-df-convert:hover {\n",
              "      background-color: #434B5C;\n",
              "      box-shadow: 0px 1px 3px 1px rgba(0, 0, 0, 0.15);\n",
              "      filter: drop-shadow(0px 1px 2px rgba(0, 0, 0, 0.3));\n",
              "      fill: #FFFFFF;\n",
              "    }\n",
              "  </style>\n",
              "\n",
              "      <script>\n",
              "        const buttonEl =\n",
              "          document.querySelector('#df-d7e8e2ca-566e-4bf2-ac24-069d66503e7f button.colab-df-convert');\n",
              "        buttonEl.style.display =\n",
              "          google.colab.kernel.accessAllowed ? 'block' : 'none';\n",
              "\n",
              "        async function convertToInteractive(key) {\n",
              "          const element = document.querySelector('#df-d7e8e2ca-566e-4bf2-ac24-069d66503e7f');\n",
              "          const dataTable =\n",
              "            await google.colab.kernel.invokeFunction('convertToInteractive',\n",
              "                                                     [key], {});\n",
              "          if (!dataTable) return;\n",
              "\n",
              "          const docLinkHtml = 'Like what you see? Visit the ' +\n",
              "            '<a target=\"_blank\" href=https://colab.research.google.com/notebooks/data_table.ipynb>data table notebook</a>'\n",
              "            + ' to learn more about interactive tables.';\n",
              "          element.innerHTML = '';\n",
              "          dataTable['output_type'] = 'display_data';\n",
              "          await google.colab.output.renderOutput(dataTable, element);\n",
              "          const docLink = document.createElement('div');\n",
              "          docLink.innerHTML = docLinkHtml;\n",
              "          element.appendChild(docLink);\n",
              "        }\n",
              "      </script>\n",
              "    </div>\n",
              "  </div>\n"
            ]
          },
          "metadata": {},
          "execution_count": 87
        }
      ]
    },
    {
      "cell_type": "markdown",
      "source": [
        "## **Sentiment Analysis**"
      ],
      "metadata": {
        "id": "oi19IU5MMusF"
      }
    },
    {
      "cell_type": "markdown",
      "source": [
        "#### Sentiment analysis, also known as opinion mining, is a natural language processing (NLP) technique used to determine the sentiment or emotional tone of a piece of text, such as a sentence, paragraph, or document. The goal of sentiment analysis is to identify whether the text expresses a positive, negative, or neutral sentiment towards a particular subject, product, service, or topic."
      ],
      "metadata": {
        "id": "l_MRL46GNOjA"
      }
    },
    {
      "cell_type": "markdown",
      "source": [
        "### VADER - Valence Aware Dictionary for Sentiment Reasoning"
      ],
      "metadata": {
        "id": "QhW0zqWvMxBv"
      }
    },
    {
      "cell_type": "markdown",
      "source": [
        "#### VADER (Valence Aware Dictionary for Sentiment Reasoning) is a lexicon and rule-based sentiment analysis tool that is specifically designed for social media text. It is a part of the Natural Language Toolkit (NLTK) library in Python. The VADER model is widely used for sentiment analysis tasks, especially on short and informal text like tweets, Facebook posts, and online reviews."
      ],
      "metadata": {
        "id": "IJxTVGAoNP_Z"
      }
    },
    {
      "cell_type": "code",
      "source": [
        "# Importing Libraries\n",
        "!pip install vaderSentiment\n",
        "from vaderSentiment.vaderSentiment import SentimentIntensityAnalyzer\n",
        "analyzer = SentimentIntensityAnalyzer()"
      ],
      "metadata": {
        "id": "w_FrLrUaM2Aw",
        "outputId": "88f9dd04-5c5f-461c-8071-23be06c6f214",
        "colab": {
          "base_uri": "https://localhost:8080/"
        }
      },
      "execution_count": 88,
      "outputs": [
        {
          "output_type": "stream",
          "name": "stdout",
          "text": [
            "Requirement already satisfied: vaderSentiment in /usr/local/lib/python3.10/dist-packages (3.3.2)\n",
            "Requirement already satisfied: requests in /usr/local/lib/python3.10/dist-packages (from vaderSentiment) (2.27.1)\n",
            "Requirement already satisfied: urllib3<1.27,>=1.21.1 in /usr/local/lib/python3.10/dist-packages (from requests->vaderSentiment) (1.26.16)\n",
            "Requirement already satisfied: certifi>=2017.4.17 in /usr/local/lib/python3.10/dist-packages (from requests->vaderSentiment) (2023.7.22)\n",
            "Requirement already satisfied: charset-normalizer~=2.0.0 in /usr/local/lib/python3.10/dist-packages (from requests->vaderSentiment) (2.0.12)\n",
            "Requirement already satisfied: idna<4,>=2.5 in /usr/local/lib/python3.10/dist-packages (from requests->vaderSentiment) (3.4)\n"
          ]
        }
      ]
    },
    {
      "cell_type": "code",
      "source": [
        "# For Calculating Sentiment Analysis\n",
        "def vadersentimentanalysis(review):\n",
        "    vs = analyzer.polarity_scores(review)\n",
        "    return vs['compound']\n",
        "\n",
        "df['Sentiment'] = df['Lemma'].apply(vadersentimentanalysis)"
      ],
      "metadata": {
        "id": "HsTTUjJ0NEVh"
      },
      "execution_count": 89,
      "outputs": []
    },
    {
      "cell_type": "code",
      "source": [
        "# Function to Analyzing\n",
        "def vader_analysis(compound):\n",
        "    if compound >= 0.5:\n",
        "        return 'Positive'\n",
        "    elif compound < 0 :\n",
        "        return 'Negative'\n",
        "    else:\n",
        "        return 'Neutral'\n",
        "\n",
        "df['Analysis'] = df['Sentiment'].apply(vader_analysis)\n",
        "df.head()"
      ],
      "metadata": {
        "id": "StkrtuuiNb8T",
        "outputId": "bf54dfbe-7531-4b13-807b-6664a7d6f109",
        "colab": {
          "base_uri": "https://localhost:8080/",
          "height": 337
        }
      },
      "execution_count": 90,
      "outputs": [
        {
          "output_type": "execute_result",
          "data": {
            "text/plain": [
              "                                                data  \\\n",
              "0    Horrible service from New Delhi to Vancouver...   \n",
              "1    Newark to Chennai via Mumbai, outstanding se...   \n",
              "2   At 0:39 in the morning you are informed a 6 h...   \n",
              "3    Had one of the worst experiences being a fre...   \n",
              "4    Bad treatment, took Air India flt no. 129 on...   \n",
              "\n",
              "                                          clean_data  \\\n",
              "0    Horrible service from New Delhi to Vancouver...   \n",
              "1    Newark to Chennai via Mumbai, outstanding se...   \n",
              "2   At 0:39 in the morning you are informed a 6 h...   \n",
              "3    Had one of the worst experiences being a fre...   \n",
              "4    Bad treatment, took Air India flt no. 129 on...   \n",
              "\n",
              "                                          POS tagged  \\\n",
              "0  [(Horrible, a), (service, n), (New, n), (Delhi...   \n",
              "1  [(Newark, n), (Chennai, n), (via, None), (Mumb...   \n",
              "2  [(0:39, None), (morning, n), (informed, v), (6...   \n",
              "3  [(one, None), (worst, a), (experiences, n), (f...   \n",
              "4  [(Bad, n), (treatment, n), (,, None), (took, v...   \n",
              "\n",
              "                                               Lemma  Sentiment  Analysis  \n",
              "0    Horrible service New Delhi Vancouver 20th Ju...    -0.8016  Negative  \n",
              "1    Newark Chennai via Mumbai , outstanding serv...     0.8863  Positive  \n",
              "2    0:39 morning inform 6 hour delay connect fli...     0.1416   Neutral  \n",
              "3    one bad experience frequent flyer . flight B...    -0.5095  Negative  \n",
              "4    Bad treatment , take Air India flt . 129 15t...    -0.8934  Negative  "
            ],
            "text/html": [
              "\n",
              "\n",
              "  <div id=\"df-e5db1997-f853-4f5a-83a2-f184b80b4d5c\">\n",
              "    <div class=\"colab-df-container\">\n",
              "      <div>\n",
              "<style scoped>\n",
              "    .dataframe tbody tr th:only-of-type {\n",
              "        vertical-align: middle;\n",
              "    }\n",
              "\n",
              "    .dataframe tbody tr th {\n",
              "        vertical-align: top;\n",
              "    }\n",
              "\n",
              "    .dataframe thead th {\n",
              "        text-align: right;\n",
              "    }\n",
              "</style>\n",
              "<table border=\"1\" class=\"dataframe\">\n",
              "  <thead>\n",
              "    <tr style=\"text-align: right;\">\n",
              "      <th></th>\n",
              "      <th>data</th>\n",
              "      <th>clean_data</th>\n",
              "      <th>POS tagged</th>\n",
              "      <th>Lemma</th>\n",
              "      <th>Sentiment</th>\n",
              "      <th>Analysis</th>\n",
              "    </tr>\n",
              "  </thead>\n",
              "  <tbody>\n",
              "    <tr>\n",
              "      <th>0</th>\n",
              "      <td>Horrible service from New Delhi to Vancouver...</td>\n",
              "      <td>Horrible service from New Delhi to Vancouver...</td>\n",
              "      <td>[(Horrible, a), (service, n), (New, n), (Delhi...</td>\n",
              "      <td>Horrible service New Delhi Vancouver 20th Ju...</td>\n",
              "      <td>-0.8016</td>\n",
              "      <td>Negative</td>\n",
              "    </tr>\n",
              "    <tr>\n",
              "      <th>1</th>\n",
              "      <td>Newark to Chennai via Mumbai, outstanding se...</td>\n",
              "      <td>Newark to Chennai via Mumbai, outstanding se...</td>\n",
              "      <td>[(Newark, n), (Chennai, n), (via, None), (Mumb...</td>\n",
              "      <td>Newark Chennai via Mumbai , outstanding serv...</td>\n",
              "      <td>0.8863</td>\n",
              "      <td>Positive</td>\n",
              "    </tr>\n",
              "    <tr>\n",
              "      <th>2</th>\n",
              "      <td>At 0:39 in the morning you are informed a 6 h...</td>\n",
              "      <td>At 0:39 in the morning you are informed a 6 h...</td>\n",
              "      <td>[(0:39, None), (morning, n), (informed, v), (6...</td>\n",
              "      <td>0:39 morning inform 6 hour delay connect fli...</td>\n",
              "      <td>0.1416</td>\n",
              "      <td>Neutral</td>\n",
              "    </tr>\n",
              "    <tr>\n",
              "      <th>3</th>\n",
              "      <td>Had one of the worst experiences being a fre...</td>\n",
              "      <td>Had one of the worst experiences being a fre...</td>\n",
              "      <td>[(one, None), (worst, a), (experiences, n), (f...</td>\n",
              "      <td>one bad experience frequent flyer . flight B...</td>\n",
              "      <td>-0.5095</td>\n",
              "      <td>Negative</td>\n",
              "    </tr>\n",
              "    <tr>\n",
              "      <th>4</th>\n",
              "      <td>Bad treatment, took Air India flt no. 129 on...</td>\n",
              "      <td>Bad treatment, took Air India flt no. 129 on...</td>\n",
              "      <td>[(Bad, n), (treatment, n), (,, None), (took, v...</td>\n",
              "      <td>Bad treatment , take Air India flt . 129 15t...</td>\n",
              "      <td>-0.8934</td>\n",
              "      <td>Negative</td>\n",
              "    </tr>\n",
              "  </tbody>\n",
              "</table>\n",
              "</div>\n",
              "      <button class=\"colab-df-convert\" onclick=\"convertToInteractive('df-e5db1997-f853-4f5a-83a2-f184b80b4d5c')\"\n",
              "              title=\"Convert this dataframe to an interactive table.\"\n",
              "              style=\"display:none;\">\n",
              "\n",
              "  <svg xmlns=\"http://www.w3.org/2000/svg\" height=\"24px\"viewBox=\"0 0 24 24\"\n",
              "       width=\"24px\">\n",
              "    <path d=\"M0 0h24v24H0V0z\" fill=\"none\"/>\n",
              "    <path d=\"M18.56 5.44l.94 2.06.94-2.06 2.06-.94-2.06-.94-.94-2.06-.94 2.06-2.06.94zm-11 1L8.5 8.5l.94-2.06 2.06-.94-2.06-.94L8.5 2.5l-.94 2.06-2.06.94zm10 10l.94 2.06.94-2.06 2.06-.94-2.06-.94-.94-2.06-.94 2.06-2.06.94z\"/><path d=\"M17.41 7.96l-1.37-1.37c-.4-.4-.92-.59-1.43-.59-.52 0-1.04.2-1.43.59L10.3 9.45l-7.72 7.72c-.78.78-.78 2.05 0 2.83L4 21.41c.39.39.9.59 1.41.59.51 0 1.02-.2 1.41-.59l7.78-7.78 2.81-2.81c.8-.78.8-2.07 0-2.86zM5.41 20L4 18.59l7.72-7.72 1.47 1.35L5.41 20z\"/>\n",
              "  </svg>\n",
              "      </button>\n",
              "\n",
              "\n",
              "\n",
              "    <div id=\"df-46efcbdb-0255-45e8-9649-260fd8f86f67\">\n",
              "      <button class=\"colab-df-quickchart\" onclick=\"quickchart('df-46efcbdb-0255-45e8-9649-260fd8f86f67')\"\n",
              "              title=\"Suggest charts.\"\n",
              "              style=\"display:none;\">\n",
              "\n",
              "<svg xmlns=\"http://www.w3.org/2000/svg\" height=\"24px\"viewBox=\"0 0 24 24\"\n",
              "     width=\"24px\">\n",
              "    <g>\n",
              "        <path d=\"M19 3H5c-1.1 0-2 .9-2 2v14c0 1.1.9 2 2 2h14c1.1 0 2-.9 2-2V5c0-1.1-.9-2-2-2zM9 17H7v-7h2v7zm4 0h-2V7h2v10zm4 0h-2v-4h2v4z\"/>\n",
              "    </g>\n",
              "</svg>\n",
              "      </button>\n",
              "    </div>\n",
              "\n",
              "<style>\n",
              "  .colab-df-quickchart {\n",
              "    background-color: #E8F0FE;\n",
              "    border: none;\n",
              "    border-radius: 50%;\n",
              "    cursor: pointer;\n",
              "    display: none;\n",
              "    fill: #1967D2;\n",
              "    height: 32px;\n",
              "    padding: 0 0 0 0;\n",
              "    width: 32px;\n",
              "  }\n",
              "\n",
              "  .colab-df-quickchart:hover {\n",
              "    background-color: #E2EBFA;\n",
              "    box-shadow: 0px 1px 2px rgba(60, 64, 67, 0.3), 0px 1px 3px 1px rgba(60, 64, 67, 0.15);\n",
              "    fill: #174EA6;\n",
              "  }\n",
              "\n",
              "  [theme=dark] .colab-df-quickchart {\n",
              "    background-color: #3B4455;\n",
              "    fill: #D2E3FC;\n",
              "  }\n",
              "\n",
              "  [theme=dark] .colab-df-quickchart:hover {\n",
              "    background-color: #434B5C;\n",
              "    box-shadow: 0px 1px 3px 1px rgba(0, 0, 0, 0.15);\n",
              "    filter: drop-shadow(0px 1px 2px rgba(0, 0, 0, 0.3));\n",
              "    fill: #FFFFFF;\n",
              "  }\n",
              "</style>\n",
              "\n",
              "    <script>\n",
              "      async function quickchart(key) {\n",
              "        const containerElement = document.querySelector('#' + key);\n",
              "        const charts = await google.colab.kernel.invokeFunction(\n",
              "            'suggestCharts', [key], {});\n",
              "      }\n",
              "    </script>\n",
              "\n",
              "      <script>\n",
              "\n",
              "function displayQuickchartButton(domScope) {\n",
              "  let quickchartButtonEl =\n",
              "    domScope.querySelector('#df-46efcbdb-0255-45e8-9649-260fd8f86f67 button.colab-df-quickchart');\n",
              "  quickchartButtonEl.style.display =\n",
              "    google.colab.kernel.accessAllowed ? 'block' : 'none';\n",
              "}\n",
              "\n",
              "        displayQuickchartButton(document);\n",
              "      </script>\n",
              "      <style>\n",
              "    .colab-df-container {\n",
              "      display:flex;\n",
              "      flex-wrap:wrap;\n",
              "      gap: 12px;\n",
              "    }\n",
              "\n",
              "    .colab-df-convert {\n",
              "      background-color: #E8F0FE;\n",
              "      border: none;\n",
              "      border-radius: 50%;\n",
              "      cursor: pointer;\n",
              "      display: none;\n",
              "      fill: #1967D2;\n",
              "      height: 32px;\n",
              "      padding: 0 0 0 0;\n",
              "      width: 32px;\n",
              "    }\n",
              "\n",
              "    .colab-df-convert:hover {\n",
              "      background-color: #E2EBFA;\n",
              "      box-shadow: 0px 1px 2px rgba(60, 64, 67, 0.3), 0px 1px 3px 1px rgba(60, 64, 67, 0.15);\n",
              "      fill: #174EA6;\n",
              "    }\n",
              "\n",
              "    [theme=dark] .colab-df-convert {\n",
              "      background-color: #3B4455;\n",
              "      fill: #D2E3FC;\n",
              "    }\n",
              "\n",
              "    [theme=dark] .colab-df-convert:hover {\n",
              "      background-color: #434B5C;\n",
              "      box-shadow: 0px 1px 3px 1px rgba(0, 0, 0, 0.15);\n",
              "      filter: drop-shadow(0px 1px 2px rgba(0, 0, 0, 0.3));\n",
              "      fill: #FFFFFF;\n",
              "    }\n",
              "  </style>\n",
              "\n",
              "      <script>\n",
              "        const buttonEl =\n",
              "          document.querySelector('#df-e5db1997-f853-4f5a-83a2-f184b80b4d5c button.colab-df-convert');\n",
              "        buttonEl.style.display =\n",
              "          google.colab.kernel.accessAllowed ? 'block' : 'none';\n",
              "\n",
              "        async function convertToInteractive(key) {\n",
              "          const element = document.querySelector('#df-e5db1997-f853-4f5a-83a2-f184b80b4d5c');\n",
              "          const dataTable =\n",
              "            await google.colab.kernel.invokeFunction('convertToInteractive',\n",
              "                                                     [key], {});\n",
              "          if (!dataTable) return;\n",
              "\n",
              "          const docLinkHtml = 'Like what you see? Visit the ' +\n",
              "            '<a target=\"_blank\" href=https://colab.research.google.com/notebooks/data_table.ipynb>data table notebook</a>'\n",
              "            + ' to learn more about interactive tables.';\n",
              "          element.innerHTML = '';\n",
              "          dataTable['output_type'] = 'display_data';\n",
              "          await google.colab.output.renderOutput(dataTable, element);\n",
              "          const docLink = document.createElement('div');\n",
              "          docLink.innerHTML = docLinkHtml;\n",
              "          element.appendChild(docLink);\n",
              "        }\n",
              "      </script>\n",
              "    </div>\n",
              "  </div>\n"
            ]
          },
          "metadata": {},
          "execution_count": 90
        }
      ]
    },
    {
      "cell_type": "code",
      "source": [
        "# Final Analysis\n",
        "vader_counts = df['Analysis'].value_counts()\n",
        "vader_counts"
      ],
      "metadata": {
        "id": "IoXuB9c7NhFN",
        "outputId": "c628acc6-dcc7-45fd-ea60-34f0c253d39d",
        "colab": {
          "base_uri": "https://localhost:8080/"
        }
      },
      "execution_count": 91,
      "outputs": [
        {
          "output_type": "execute_result",
          "data": {
            "text/plain": [
              "Negative    387\n",
              "Neutral     317\n",
              "Positive    296\n",
              "Name: Analysis, dtype: int64"
            ]
          },
          "metadata": {},
          "execution_count": 91
        }
      ]
    },
    {
      "cell_type": "markdown",
      "source": [
        "## **Data Visualization Using Matplotlib**"
      ],
      "metadata": {
        "id": "DSqTSG9cNjVk"
      }
    },
    {
      "cell_type": "code",
      "source": [
        "import matplotlib.pyplot as plt\n",
        "%matplotlib inline"
      ],
      "metadata": {
        "id": "zfD76j3ZNp0A"
      },
      "execution_count": 92,
      "outputs": []
    },
    {
      "cell_type": "markdown",
      "source": [
        "#### Matplotlib is a popular data visualization library in Python. It provides a wide variety of functions and tools for creating high-quality plots and charts. With Matplotlib, you can create line plots, scatter plots, bar plots, histograms, pie charts, 3D plots, and more."
      ],
      "metadata": {
        "id": "caDnBqc2Ny3a"
      }
    },
    {
      "cell_type": "code",
      "source": [
        "plt.figure(figsize=(15,7))\n",
        "plt.subplot(1, 3, 2)\n",
        "plt.title('Reviews Data Analysis')\n",
        "plt.pie(vader_counts.values, labels = vader_counts.index, explode = (0, 0, 0.25), autopct='%1.1f%%', shadow=False)"
      ],
      "metadata": {
        "id": "OyUtIFEaN032",
        "outputId": "07ee236c-3a46-4ae1-b93c-b7e800c5e944",
        "colab": {
          "base_uri": "https://localhost:8080/",
          "height": 557
        }
      },
      "execution_count": 93,
      "outputs": [
        {
          "output_type": "execute_result",
          "data": {
            "text/plain": [
              "([<matplotlib.patches.Wedge at 0x7f241e4ee200>,\n",
              "  <matplotlib.patches.Wedge at 0x7f24204d5660>,\n",
              "  <matplotlib.patches.Wedge at 0x7f241e4efd90>],\n",
              " [Text(0.382349388436594, 1.031411142640103, 'Negative'),\n",
              "  Text(-1.0553537281010803, -0.310207202661626, 'Neutral'),\n",
              "  Text(0.8071717141593353, -1.0821154392490113, 'Positive')],\n",
              " [Text(0.20855421187450582, 0.5625878959855106, '38.7%'),\n",
              "  Text(-0.5756474880551347, -0.16920392872452325, '31.7%'),\n",
              "  Text(0.5082192274336556, -0.6813319432308589, '29.6%')])"
            ]
          },
          "metadata": {},
          "execution_count": 93
        },
        {
          "output_type": "display_data",
          "data": {
            "text/plain": [
              "<Figure size 1500x700 with 1 Axes>"
            ],
            "image/png": "[encoded data removed]"
          },
          "metadata": {}
        }
      ]
    },
    {
      "cell_type": "markdown",
      "source": [
        "## **Coverting To CSV File**"
      ],
      "metadata": {
        "id": "orP_cVhgOScz"
      }
    },
    {
      "cell_type": "code",
      "source": [
        "df.to_csv(\"Air_India_Data.csv\")"
      ],
      "metadata": {
        "id": "CwSrxHxVOWMI"
      },
      "execution_count": 94,
      "outputs": []
    },
    {
      "cell_type": "markdown",
      "source": [
        "## **Data Viz Using WordCloud**"
      ],
      "metadata": {
        "id": "jM4AMt-UOhfW"
      }
    },
    {
      "cell_type": "markdown",
      "source": [
        "#### WordCloud is a popular Python library used for visualizing text data in the form of word clouds. A word cloud is a graphical representation of the most frequent words in a given text corpus, where the size of each word is proportional to its frequency in the text."
      ],
      "metadata": {
        "id": "GpHigcZ1PMsH"
      }
    },
    {
      "cell_type": "code",
      "source": [
        "from wordcloud import WordCloud, STOPWORDS\n",
        "stopwords = set(STOPWORDS)"
      ],
      "metadata": {
        "id": "5paP3Q4tOoC4"
      },
      "execution_count": 95,
      "outputs": []
    },
    {
      "cell_type": "code",
      "source": [
        "import wordcloud\n",
        "def show_wordcloud(data):\n",
        "  wordcloud = WordCloud(\n",
        "      background_color = 'black',\n",
        "      stopwords=stopwords,\n",
        "      max_words = 200,\n",
        "      max_font_size = 40,\n",
        "      scale = 3,\n",
        "      random_state = 1)\n",
        "\n",
        "  wordcloud = wordcloud.generate(str(data))\n",
        "\n",
        "  fig = plt.figure(1, figsize = (12, 32))\n",
        "  plt.axis('off')\n",
        "\n",
        "  plt.imshow(wordcloud, interpolation = 'Bilinear')\n",
        "  plt.show()\n",
        "\n",
        "show_wordcloud(df.Lemma)"
      ],
      "metadata": {
        "id": "UnVvvOTcOuus",
        "outputId": "6c3ec895-f640-40fc-cb24-dab928d136e4",
        "colab": {
          "base_uri": "https://localhost:8080/",
          "height": 501
        }
      },
      "execution_count": 96,
      "outputs": [
        {
          "output_type": "display_data",
          "data": {
            "text/plain": [
              "<Figure size 1200x3200 with 1 Axes>"
            ],
            "image/png": "[encoded data removed]"
          },
          "metadata": {}
        }
      ]
    },
    {
      "cell_type": "markdown",
      "source": [
        "# **P2:- PREDICTIVE MODELING ON CUSTOMERS DATA**"
      ],
      "metadata": {
        "id": "2fBFtkRY_lYa"
      }
    },
    {
      "cell_type": "markdown",
      "source": [
        "### The predictive model is the quality of the data you use to train the machine learning algorithms. you must manipulate and prepare the provided customers' overall data so that you can build a high-quality predictive model. With the predictive model, it is important to interpret the results in order to understand how “predictive” the data really was and can feasibly use it to predict the target outcome."
      ],
      "metadata": {
        "id": "HuTwmxwcBde7"
      }
    },
    {
      "cell_type": "markdown",
      "source": [
        " ### Here We started From Exploratory Data Analysis\n",
        "\n",
        " #### Exploratory Data Analysis is a crucial step in the data analysis process, where the primary goal is to understand the data, gain insights, and identify patterns or relationships between variables."
      ],
      "metadata": {
        "id": "-Nc8jFRX8kLG"
      }
    },
    {
      "cell_type": "code",
      "source": [
        "!pip install warn"
      ],
      "metadata": {
        "colab": {
          "base_uri": "https://localhost:8080/"
        },
        "id": "R9nQnFoc9NOy",
        "outputId": "9a548d1c-76fb-4f28-e329-5c5451519e84"
      },
      "execution_count": 97,
      "outputs": [
        {
          "output_type": "stream",
          "name": "stdout",
          "text": [
            "Requirement already satisfied: warn in /usr/local/lib/python3.10/dist-packages (0.1.0)\n"
          ]
        }
      ]
    },
    {
      "cell_type": "code",
      "execution_count": 98,
      "metadata": {
        "id": "2IdMOMx97nJD"
      },
      "outputs": [],
      "source": [
        "import pandas as pd\n",
        "import matplotlib.pyplot as plt\n",
        "%matplotlib inline\n",
        "import seaborn as sns\n",
        "import numpy as np\n",
        "import warnings\n",
        "warnings.filterwarnings(\"ignore\")\n",
        "import chardet\n",
        "import re"
      ]
    },
    {
      "cell_type": "markdown",
      "source": [
        "### Again Web Scrapping From [Skytrax](https://skytraxratings.com/) Website for Building Predictive Model"
      ],
      "metadata": {
        "id": "_LOYFyQBubGQ"
      }
    },
    {
      "cell_type": "code",
      "source": [
        "def scrapper(search_result):\n",
        "    data = []\n",
        "\n",
        "    try:\n",
        "        # 1. Rating\n",
        "        rating_span = search_result.find('div', itemprop=\"reviewRating\").find('span', itemprop='ratingValue')\n",
        "        rating = rating_span.text.strip() if rating_span else None\n",
        "        data.append(rating)\n",
        "\n",
        "        # 2. Header\n",
        "        header_h2 = search_result.find('div', class_=\"body\").find('h2', class_='text_header')\n",
        "        header = header_h2.text.strip() if header_h2 else None\n",
        "        data.append(header)\n",
        "\n",
        "        # 3. Customer Name, Country, Date\n",
        "        customer_info_h3 = search_result.find('div', class_=\"body\").find('h3', class_='text_sub_header userStatusWrapper')\n",
        "        customer_name_span = customer_info_h3.find('span', itemprop='name')\n",
        "        customer_name = customer_name_span.text.strip() if customer_name_span else None\n",
        "        data.append(customer_name)\n",
        "\n",
        "        # Country (Australia) is in parentheses, so we need to extract it using regex\n",
        "        country_regex = r'\\((.*?)\\)'\n",
        "        country_match = re.search(country_regex, customer_info_h3.text)\n",
        "        country = country_match.group(1) if country_match else None\n",
        "        data.append(country)\n",
        "\n",
        "        date_published_time = customer_info_h3.find('time', itemprop='datePublished')\n",
        "        date = date_published_time.text.strip() if date_published_time else None\n",
        "        data.append(date)\n",
        "\n",
        "        # 4. Is Verified\n",
        "        review_body_div = search_result.find('div', class_='text_content')\n",
        "        is_verified_em = review_body_div.find('em')\n",
        "        is_verified = is_verified_em.text.strip() if is_verified_em else None\n",
        "        data.append(is_verified)\n",
        "\n",
        "        # 5. Review\n",
        "        review = review_body_div.text.strip() if review_body_div else None\n",
        "        data.append(review)\n",
        "\n",
        "        # 6. Type of Traveller\n",
        "        type_of_traveller_td = search_result.find('div', class_=\"body\").find('td', class_='review-rating-header type_of_traveller')\n",
        "        type_of_traveller = type_of_traveller_td.find_next('td', class_='review-value').text.strip() if type_of_traveller_td else None\n",
        "        data.append(type_of_traveller)\n",
        "\n",
        "        # 7. Seat Type\n",
        "        seat_type_td = search_result.find('div', class_=\"body\").find('td', class_='review-rating-header cabin_flown')\n",
        "        seat_type = seat_type_td.find_next('td', class_='review-value').text.strip() if seat_type_td else None\n",
        "        data.append(seat_type)\n",
        "\n",
        "        # 8. Route\n",
        "        route_td = search_result.find('div', class_=\"body\").find('td', class_='review-rating-header route')\n",
        "        route = route_td.find_next('td', class_='review-value').text.strip() if route_td else None\n",
        "        data.append(route)\n",
        "\n",
        "        # 9. Date Flown\n",
        "        date_flown_td = search_result.find('div', class_=\"body\").find('td', class_='review-rating-header date_flown')\n",
        "        date_flown = date_flown_td.find_next('td', class_='review-value').text.strip() if date_flown_td else None\n",
        "        data.append(date_flown)\n",
        "\n",
        "        # 10. Seat Comfort\n",
        "        seat_comfort_td = search_result.find('td', class_='review-rating-header seat_comfort')\n",
        "        seat_comfort_span = seat_comfort_td.find_next('td', class_=\"review-rating-stars stars\").find_all('span', class_='star fill') if seat_comfort_td else None\n",
        "        seat_comfort = max([int(span.text) for span in seat_comfort_span]) if seat_comfort_span else None\n",
        "        data.append(seat_comfort)\n",
        "\n",
        "        # 11. Cabin Staff Service\n",
        "        cabin_staff_service_td = search_result.find('td', class_=\"review-rating-header cabin_staff_service\")\n",
        "        cabin_staff_service_span = cabin_staff_service_td.find_next('td', class_=\"review-rating-stars stars\").find_all('span', class_='star fill') if cabin_staff_service_td else None\n",
        "        cabin_staff_service = max([int(span.text) for span in cabin_staff_service_span]) if cabin_staff_service_span else None\n",
        "        data.append(cabin_staff_service)\n",
        "\n",
        "        # 12. Food & Beverages\n",
        "        food_and_beverages_td = search_result.find('td', class_=\"review-rating-header food_and_beverages\")\n",
        "        food_and_beverages_span = food_and_beverages_td.find_next('td', class_=\"review-rating-stars stars\").find_all('span', class_='star fill') if food_and_beverages_td else None\n",
        "        food_and_beverages = max([int(span.text) for span in food_and_beverages_span]) if food_and_beverages_span else None\n",
        "        data.append(food_and_beverages)\n",
        "\n",
        "        # 13. Inflight Entertainment\n",
        "        inflight_entertainment_td = search_result.find('td', class_=\"review-rating-header inflight_entertainment\")\n",
        "        inflight_entertainment_span = inflight_entertainment_td.find_next('td', class_=\"review-rating-stars stars\").find_all('span', class_='star fill') if inflight_entertainment_td else None\n",
        "        inflight_entertainment = max([int(span.text) for span in inflight_entertainment_span]) if inflight_entertainment_span else None\n",
        "        data.append(inflight_entertainment)\n",
        "\n",
        "        # 14. Ground Service\n",
        "        ground_service_td = search_result.find('td', class_=\"review-rating-header ground_service\")\n",
        "        ground_service_span = ground_service_td.find_next('td', class_=\"review-rating-stars stars\").find_all('span', class_='star fill') if ground_service_td else None\n",
        "        ground_service = max([int(span.text) for span in ground_service_span]) if ground_service_span else None\n",
        "        data.append(ground_service)\n",
        "\n",
        "        # 15. Wifi & Connectivity\n",
        "        wifi_and_connectivity_td = search_result.find('td', class_=\"review-rating-header wifi_and_connectivity\")\n",
        "        wifi_and_connectivity_span = wifi_and_connectivity_td.find_next('td', class_=\"review-rating-stars stars\").find_all('span', class_='star fill') if wifi_and_connectivity_td else None\n",
        "        wifi_and_connectivity = max([int(span.text) for span in wifi_and_connectivity_span]) if wifi_and_connectivity_span else None\n",
        "        data.append(wifi_and_connectivity)\n",
        "\n",
        "        # 16. Value For Money\n",
        "        value_for_money_td = search_result.find('td', class_=\"review-rating-header value_for_money\")\n",
        "        value_for_money_span = value_for_money_td.find_next('td', class_=\"review-rating-stars stars\").find_all('span', class_='star fill') if value_for_money_td else None\n",
        "        value_for_money = max([int(span.text) for span in value_for_money_span]) if value_for_money_span else None\n",
        "        data.append(value_for_money)\n",
        "\n",
        "        # 17. Recommended\n",
        "        recommended_td = search_result.find('td', class_='review-rating-header recommended')\n",
        "        recommended = recommended_td.find_next('td', class_='review-value rating-no').text.strip() if recommended_td else None\n",
        "        data.append(recommended)\n",
        "\n",
        "        # print(f'Successfully Scrapped Review of {customer_name}')\n",
        "\n",
        "    except:\n",
        "        pass\n",
        "\n",
        "    return data"
      ],
      "metadata": {
        "id": "0szTueZ3t_NV"
      },
      "execution_count": 99,
      "outputs": []
    },
    {
      "cell_type": "code",
      "source": [
        "final_data_list = []\n",
        "NULL = \"None\"\n",
        "\n",
        "# Scrapping data from website\n",
        "for i in range(1, 13):\n",
        "    URL = f\"https://www.airlinequality.com/airline-reviews/air-india/page/{i}/?sortby=post_date%3ADesc&pagesize=100\"\n",
        "    response = requests.get(URL)\n",
        "    webpage = response.text\n",
        "    soup = BeautifulSoup(webpage, \"html.parser\")\n",
        "    search_results = soup.find_all(\"article\", itemprop=\"review\")\n",
        "\n",
        "    for result in search_results:\n",
        "        final_data_list.append(scrapper(result))"
      ],
      "metadata": {
        "id": "qVK0zexwuHl6"
      },
      "execution_count": 100,
      "outputs": []
    },
    {
      "cell_type": "markdown",
      "source": [
        "### Created Data Frme"
      ],
      "metadata": {
        "id": "B8Iy0KgnvTmY"
      }
    },
    {
      "cell_type": "code",
      "source": [
        "# Convert nested list to a DataFrame\n",
        "columns = ['rating', 'header', 'customer_name', 'country', 'date', 'is_verified', 'review', 'type_of_traveller',\n",
        "           'seat_type', 'route', 'date_flown', 'seat_comfort', 'cabin_staff_service', 'food_and_beverages',\n",
        "           'inflight_entertainment', 'ground_service', 'wifi_and_connectivity', 'value_for_money', 'recommended']\n",
        "df = pd.DataFrame(final_data_list, columns=columns)\n",
        "\n",
        "# Write DataFrame to CSV file\n",
        "df.to_csv('output_data.csv', index=False)"
      ],
      "metadata": {
        "id": "TtEPHmXjuTcG"
      },
      "execution_count": 101,
      "outputs": []
    },
    {
      "cell_type": "markdown",
      "source": [
        "- Following the data scraping process, we obtained the file \"output_data.csv.\"\n",
        "\n",
        "- Before commencing the development of predictive models, we performed data cleaning using MS Excel, resulting in the creation of a new file named 'cleaned_output_data.csv.'"
      ],
      "metadata": {
        "id": "oILREgKsvY10"
      }
    },
    {
      "cell_type": "code",
      "source": [
        "data = 'cleaned_output_data.csv'"
      ],
      "metadata": {
        "id": "STVX0Lyc9Lbh"
      },
      "execution_count": 102,
      "outputs": []
    },
    {
      "cell_type": "code",
      "source": [
        "with open('cleaned_output_data.csv', 'rb') as rawdata:\n",
        "  result = chardet.detect(rawdata.read(100000))\n",
        "\n",
        "print(result)"
      ],
      "metadata": {
        "colab": {
          "base_uri": "https://localhost:8080/"
        },
        "id": "lzBgRm_W9_v9",
        "outputId": "0b79cabe-f165-48b4-eb95-6c885abda6b4"
      },
      "execution_count": 103,
      "outputs": [
        {
          "output_type": "stream",
          "name": "stdout",
          "text": [
            "{'encoding': 'utf-8', 'confidence': 0.99, 'language': ''}\n"
          ]
        }
      ]
    },
    {
      "cell_type": "code",
      "source": [
        "df = pd.read_csv(data, encoding= 'utf-8')"
      ],
      "metadata": {
        "id": "p_FZ-voD_I5T"
      },
      "execution_count": 104,
      "outputs": []
    },
    {
      "cell_type": "code",
      "source": [
        "df.head()"
      ],
      "metadata": {
        "colab": {
          "base_uri": "https://localhost:8080/",
          "height": 669
        },
        "id": "BR8PY7v8_fuh",
        "outputId": "fa0e2800-021a-49ad-a9e0-20207e1fd56b"
      },
      "execution_count": 105,
      "outputs": [
        {
          "output_type": "execute_result",
          "data": {
            "text/plain": [
              "   rating                             header      customer_name  \\\n",
              "0       1         \"was given a regular meal\"       Simon Taylor   \n",
              "1       1        \"both times it was torture\"      Rohit Kaushal   \n",
              "2       1  \"flight was disgusting and dirty\"  Ann Benny Alackal   \n",
              "3       1       \"gotten progressively worse\"            R Singh   \n",
              "4       2                \"most disappointed\"            S Sethi   \n",
              "\n",
              "          country            date    is_verified  \\\n",
              "0  United Kingdom  22nd July 2023  Trip Verified   \n",
              "1       Australia  20th July 2023   Not Verified   \n",
              "2   United States  18th July 2023   Not Verified   \n",
              "3   United States  18th July 2023  Trip Verified   \n",
              "4           India  17th July 2023   Not Verified   \n",
              "\n",
              "                                              review type_of_traveller  \\\n",
              "0  ✅ Trip Verified |  Requested a gluten free mea...      Solo Leisure   \n",
              "1  Not Verified | Worst planes I have ever been i...          Business   \n",
              "2  Not Verified | I have been flying for the past...    Couple Leisure   \n",
              "3  ✅ Trip Verified | Sometime around 2017 I got t...      Solo Leisure   \n",
              "4  Not Verified |  My flight was supposed to depa...      Solo Leisure   \n",
              "\n",
              "       seat_type                        route date_flown  seat_comfort  \\\n",
              "0  Economy Class               Gatwick to Goa     May-23           3.0   \n",
              "1  Economy Class           Melbourne to Delhi     May-23           1.0   \n",
              "2  Economy Class                          NaN     Jul-23           1.0   \n",
              "3  Economy Class  Kolkata to Newark via Delhi     Jun-23           1.0   \n",
              "4  Economy Class           Delhi to Singapore     Jul-23           2.0   \n",
              "\n",
              "   cabin_staff_service  food_and_beverages  inflight_entertainment  \\\n",
              "0                  2.0                 1.0                     2.0   \n",
              "1                  1.0                 3.0                     NaN   \n",
              "2                  5.0                 1.0                     NaN   \n",
              "3                  1.0                 1.0                     1.0   \n",
              "4                  2.0                 1.0                     1.0   \n",
              "\n",
              "   ground_service  wifi_and_connectivity  value_for_money recommended  \n",
              "0             3.0                    NaN                1          no  \n",
              "1             1.0                    NaN                1          no  \n",
              "2             1.0                    NaN                1          no  \n",
              "3             1.0                    1.0                1          no  \n",
              "4             2.0                    NaN                2          no  "
            ],
            "text/html": [
              "\n",
              "\n",
              "  <div id=\"df-60406347-87f3-4673-87e1-5014953120ab\">\n",
              "    <div class=\"colab-df-container\">\n",
              "      <div>\n",
              "<style scoped>\n",
              "    .dataframe tbody tr th:only-of-type {\n",
              "        vertical-align: middle;\n",
              "    }\n",
              "\n",
              "    .dataframe tbody tr th {\n",
              "        vertical-align: top;\n",
              "    }\n",
              "\n",
              "    .dataframe thead th {\n",
              "        text-align: right;\n",
              "    }\n",
              "</style>\n",
              "<table border=\"1\" class=\"dataframe\">\n",
              "  <thead>\n",
              "    <tr style=\"text-align: right;\">\n",
              "      <th></th>\n",
              "      <th>rating</th>\n",
              "      <th>header</th>\n",
              "      <th>customer_name</th>\n",
              "      <th>country</th>\n",
              "      <th>date</th>\n",
              "      <th>is_verified</th>\n",
              "      <th>review</th>\n",
              "      <th>type_of_traveller</th>\n",
              "      <th>seat_type</th>\n",
              "      <th>route</th>\n",
              "      <th>date_flown</th>\n",
              "      <th>seat_comfort</th>\n",
              "      <th>cabin_staff_service</th>\n",
              "      <th>food_and_beverages</th>\n",
              "      <th>inflight_entertainment</th>\n",
              "      <th>ground_service</th>\n",
              "      <th>wifi_and_connectivity</th>\n",
              "      <th>value_for_money</th>\n",
              "      <th>recommended</th>\n",
              "    </tr>\n",
              "  </thead>\n",
              "  <tbody>\n",
              "    <tr>\n",
              "      <th>0</th>\n",
              "      <td>1</td>\n",
              "      <td>\"was given a regular meal\"</td>\n",
              "      <td>Simon Taylor</td>\n",
              "      <td>United Kingdom</td>\n",
              "      <td>22nd July 2023</td>\n",
              "      <td>Trip Verified</td>\n",
              "      <td>✅ Trip Verified |  Requested a gluten free mea...</td>\n",
              "      <td>Solo Leisure</td>\n",
              "      <td>Economy Class</td>\n",
              "      <td>Gatwick to Goa</td>\n",
              "      <td>May-23</td>\n",
              "      <td>3.0</td>\n",
              "      <td>2.0</td>\n",
              "      <td>1.0</td>\n",
              "      <td>2.0</td>\n",
              "      <td>3.0</td>\n",
              "      <td>NaN</td>\n",
              "      <td>1</td>\n",
              "      <td>no</td>\n",
              "    </tr>\n",
              "    <tr>\n",
              "      <th>1</th>\n",
              "      <td>1</td>\n",
              "      <td>\"both times it was torture\"</td>\n",
              "      <td>Rohit Kaushal</td>\n",
              "      <td>Australia</td>\n",
              "      <td>20th July 2023</td>\n",
              "      <td>Not Verified</td>\n",
              "      <td>Not Verified | Worst planes I have ever been i...</td>\n",
              "      <td>Business</td>\n",
              "      <td>Economy Class</td>\n",
              "      <td>Melbourne to Delhi</td>\n",
              "      <td>May-23</td>\n",
              "      <td>1.0</td>\n",
              "      <td>1.0</td>\n",
              "      <td>3.0</td>\n",
              "      <td>NaN</td>\n",
              "      <td>1.0</td>\n",
              "      <td>NaN</td>\n",
              "      <td>1</td>\n",
              "      <td>no</td>\n",
              "    </tr>\n",
              "    <tr>\n",
              "      <th>2</th>\n",
              "      <td>1</td>\n",
              "      <td>\"flight was disgusting and dirty\"</td>\n",
              "      <td>Ann Benny Alackal</td>\n",
              "      <td>United States</td>\n",
              "      <td>18th July 2023</td>\n",
              "      <td>Not Verified</td>\n",
              "      <td>Not Verified | I have been flying for the past...</td>\n",
              "      <td>Couple Leisure</td>\n",
              "      <td>Economy Class</td>\n",
              "      <td>NaN</td>\n",
              "      <td>Jul-23</td>\n",
              "      <td>1.0</td>\n",
              "      <td>5.0</td>\n",
              "      <td>1.0</td>\n",
              "      <td>NaN</td>\n",
              "      <td>1.0</td>\n",
              "      <td>NaN</td>\n",
              "      <td>1</td>\n",
              "      <td>no</td>\n",
              "    </tr>\n",
              "    <tr>\n",
              "      <th>3</th>\n",
              "      <td>1</td>\n",
              "      <td>\"gotten progressively worse\"</td>\n",
              "      <td>R Singh</td>\n",
              "      <td>United States</td>\n",
              "      <td>18th July 2023</td>\n",
              "      <td>Trip Verified</td>\n",
              "      <td>✅ Trip Verified | Sometime around 2017 I got t...</td>\n",
              "      <td>Solo Leisure</td>\n",
              "      <td>Economy Class</td>\n",
              "      <td>Kolkata to Newark via Delhi</td>\n",
              "      <td>Jun-23</td>\n",
              "      <td>1.0</td>\n",
              "      <td>1.0</td>\n",
              "      <td>1.0</td>\n",
              "      <td>1.0</td>\n",
              "      <td>1.0</td>\n",
              "      <td>1.0</td>\n",
              "      <td>1</td>\n",
              "      <td>no</td>\n",
              "    </tr>\n",
              "    <tr>\n",
              "      <th>4</th>\n",
              "      <td>2</td>\n",
              "      <td>\"most disappointed\"</td>\n",
              "      <td>S Sethi</td>\n",
              "      <td>India</td>\n",
              "      <td>17th July 2023</td>\n",
              "      <td>Not Verified</td>\n",
              "      <td>Not Verified |  My flight was supposed to depa...</td>\n",
              "      <td>Solo Leisure</td>\n",
              "      <td>Economy Class</td>\n",
              "      <td>Delhi to Singapore</td>\n",
              "      <td>Jul-23</td>\n",
              "      <td>2.0</td>\n",
              "      <td>2.0</td>\n",
              "      <td>1.0</td>\n",
              "      <td>1.0</td>\n",
              "      <td>2.0</td>\n",
              "      <td>NaN</td>\n",
              "      <td>2</td>\n",
              "      <td>no</td>\n",
              "    </tr>\n",
              "  </tbody>\n",
              "</table>\n",
              "</div>\n",
              "      <button class=\"colab-df-convert\" onclick=\"convertToInteractive('df-60406347-87f3-4673-87e1-5014953120ab')\"\n",
              "              title=\"Convert this dataframe to an interactive table.\"\n",
              "              style=\"display:none;\">\n",
              "\n",
              "  <svg xmlns=\"http://www.w3.org/2000/svg\" height=\"24px\"viewBox=\"0 0 24 24\"\n",
              "       width=\"24px\">\n",
              "    <path d=\"M0 0h24v24H0V0z\" fill=\"none\"/>\n",
              "    <path d=\"M18.56 5.44l.94 2.06.94-2.06 2.06-.94-2.06-.94-.94-2.06-.94 2.06-2.06.94zm-11 1L8.5 8.5l.94-2.06 2.06-.94-2.06-.94L8.5 2.5l-.94 2.06-2.06.94zm10 10l.94 2.06.94-2.06 2.06-.94-2.06-.94-.94-2.06-.94 2.06-2.06.94z\"/><path d=\"M17.41 7.96l-1.37-1.37c-.4-.4-.92-.59-1.43-.59-.52 0-1.04.2-1.43.59L10.3 9.45l-7.72 7.72c-.78.78-.78 2.05 0 2.83L4 21.41c.39.39.9.59 1.41.59.51 0 1.02-.2 1.41-.59l7.78-7.78 2.81-2.81c.8-.78.8-2.07 0-2.86zM5.41 20L4 18.59l7.72-7.72 1.47 1.35L5.41 20z\"/>\n",
              "  </svg>\n",
              "      </button>\n",
              "\n",
              "\n",
              "\n",
              "    <div id=\"df-5a190d52-b3e3-4bf8-9d5c-982a431c40a5\">\n",
              "      <button class=\"colab-df-quickchart\" onclick=\"quickchart('df-5a190d52-b3e3-4bf8-9d5c-982a431c40a5')\"\n",
              "              title=\"Suggest charts.\"\n",
              "              style=\"display:none;\">\n",
              "\n",
              "<svg xmlns=\"http://www.w3.org/2000/svg\" height=\"24px\"viewBox=\"0 0 24 24\"\n",
              "     width=\"24px\">\n",
              "    <g>\n",
              "        <path d=\"M19 3H5c-1.1 0-2 .9-2 2v14c0 1.1.9 2 2 2h14c1.1 0 2-.9 2-2V5c0-1.1-.9-2-2-2zM9 17H7v-7h2v7zm4 0h-2V7h2v10zm4 0h-2v-4h2v4z\"/>\n",
              "    </g>\n",
              "</svg>\n",
              "      </button>\n",
              "    </div>\n",
              "\n",
              "<style>\n",
              "  .colab-df-quickchart {\n",
              "    background-color: #E8F0FE;\n",
              "    border: none;\n",
              "    border-radius: 50%;\n",
              "    cursor: pointer;\n",
              "    display: none;\n",
              "    fill: #1967D2;\n",
              "    height: 32px;\n",
              "    padding: 0 0 0 0;\n",
              "    width: 32px;\n",
              "  }\n",
              "\n",
              "  .colab-df-quickchart:hover {\n",
              "    background-color: #E2EBFA;\n",
              "    box-shadow: 0px 1px 2px rgba(60, 64, 67, 0.3), 0px 1px 3px 1px rgba(60, 64, 67, 0.15);\n",
              "    fill: #174EA6;\n",
              "  }\n",
              "\n",
              "  [theme=dark] .colab-df-quickchart {\n",
              "    background-color: #3B4455;\n",
              "    fill: #D2E3FC;\n",
              "  }\n",
              "\n",
              "  [theme=dark] .colab-df-quickchart:hover {\n",
              "    background-color: #434B5C;\n",
              "    box-shadow: 0px 1px 3px 1px rgba(0, 0, 0, 0.15);\n",
              "    filter: drop-shadow(0px 1px 2px rgba(0, 0, 0, 0.3));\n",
              "    fill: #FFFFFF;\n",
              "  }\n",
              "</style>\n",
              "\n",
              "    <script>\n",
              "      async function quickchart(key) {\n",
              "        const containerElement = document.querySelector('#' + key);\n",
              "        const charts = await google.colab.kernel.invokeFunction(\n",
              "            'suggestCharts', [key], {});\n",
              "      }\n",
              "    </script>\n",
              "\n",
              "      <script>\n",
              "\n",
              "function displayQuickchartButton(domScope) {\n",
              "  let quickchartButtonEl =\n",
              "    domScope.querySelector('#df-5a190d52-b3e3-4bf8-9d5c-982a431c40a5 button.colab-df-quickchart');\n",
              "  quickchartButtonEl.style.display =\n",
              "    google.colab.kernel.accessAllowed ? 'block' : 'none';\n",
              "}\n",
              "\n",
              "        displayQuickchartButton(document);\n",
              "      </script>\n",
              "      <style>\n",
              "    .colab-df-container {\n",
              "      display:flex;\n",
              "      flex-wrap:wrap;\n",
              "      gap: 12px;\n",
              "    }\n",
              "\n",
              "    .colab-df-convert {\n",
              "      background-color: #E8F0FE;\n",
              "      border: none;\n",
              "      border-radius: 50%;\n",
              "      cursor: pointer;\n",
              "      display: none;\n",
              "      fill: #1967D2;\n",
              "      height: 32px;\n",
              "      padding: 0 0 0 0;\n",
              "      width: 32px;\n",
              "    }\n",
              "\n",
              "    .colab-df-convert:hover {\n",
              "      background-color: #E2EBFA;\n",
              "      box-shadow: 0px 1px 2px rgba(60, 64, 67, 0.3), 0px 1px 3px 1px rgba(60, 64, 67, 0.15);\n",
              "      fill: #174EA6;\n",
              "    }\n",
              "\n",
              "    [theme=dark] .colab-df-convert {\n",
              "      background-color: #3B4455;\n",
              "      fill: #D2E3FC;\n",
              "    }\n",
              "\n",
              "    [theme=dark] .colab-df-convert:hover {\n",
              "      background-color: #434B5C;\n",
              "      box-shadow: 0px 1px 3px 1px rgba(0, 0, 0, 0.15);\n",
              "      filter: drop-shadow(0px 1px 2px rgba(0, 0, 0, 0.3));\n",
              "      fill: #FFFFFF;\n",
              "    }\n",
              "  </style>\n",
              "\n",
              "      <script>\n",
              "        const buttonEl =\n",
              "          document.querySelector('#df-60406347-87f3-4673-87e1-5014953120ab button.colab-df-convert');\n",
              "        buttonEl.style.display =\n",
              "          google.colab.kernel.accessAllowed ? 'block' : 'none';\n",
              "\n",
              "        async function convertToInteractive(key) {\n",
              "          const element = document.querySelector('#df-60406347-87f3-4673-87e1-5014953120ab');\n",
              "          const dataTable =\n",
              "            await google.colab.kernel.invokeFunction('convertToInteractive',\n",
              "                                                     [key], {});\n",
              "          if (!dataTable) return;\n",
              "\n",
              "          const docLinkHtml = 'Like what you see? Visit the ' +\n",
              "            '<a target=\"_blank\" href=https://colab.research.google.com/notebooks/data_table.ipynb>data table notebook</a>'\n",
              "            + ' to learn more about interactive tables.';\n",
              "          element.innerHTML = '';\n",
              "          dataTable['output_type'] = 'display_data';\n",
              "          await google.colab.output.renderOutput(dataTable, element);\n",
              "          const docLink = document.createElement('div');\n",
              "          docLink.innerHTML = docLinkHtml;\n",
              "          element.appendChild(docLink);\n",
              "        }\n",
              "      </script>\n",
              "    </div>\n",
              "  </div>\n"
            ]
          },
          "metadata": {},
          "execution_count": 105
        }
      ]
    },
    {
      "cell_type": "code",
      "source": [
        "df.dtypes"
      ],
      "metadata": {
        "colab": {
          "base_uri": "https://localhost:8080/"
        },
        "id": "Ukh4BlVc_hPJ",
        "outputId": "c4041faf-4473-4041-9cd5-ee220bb649e1"
      },
      "execution_count": 106,
      "outputs": [
        {
          "output_type": "execute_result",
          "data": {
            "text/plain": [
              "rating                      int64\n",
              "header                     object\n",
              "customer_name              object\n",
              "country                    object\n",
              "date                       object\n",
              "is_verified                object\n",
              "review                     object\n",
              "type_of_traveller          object\n",
              "seat_type                  object\n",
              "route                      object\n",
              "date_flown                 object\n",
              "seat_comfort              float64\n",
              "cabin_staff_service       float64\n",
              "food_and_beverages        float64\n",
              "inflight_entertainment    float64\n",
              "ground_service            float64\n",
              "wifi_and_connectivity     float64\n",
              "value_for_money             int64\n",
              "recommended                object\n",
              "dtype: object"
            ]
          },
          "metadata": {},
          "execution_count": 106
        }
      ]
    },
    {
      "cell_type": "code",
      "source": [
        "df.shape"
      ],
      "metadata": {
        "colab": {
          "base_uri": "https://localhost:8080/"
        },
        "id": "UnBEh-VS_mpe",
        "outputId": "7d03cc10-ec58-4c93-f593-305685e8e4a8"
      },
      "execution_count": 107,
      "outputs": [
        {
          "output_type": "execute_result",
          "data": {
            "text/plain": [
              "(876, 19)"
            ]
          },
          "metadata": {},
          "execution_count": 107
        }
      ]
    },
    {
      "cell_type": "code",
      "source": [
        "df.isnull().sum()"
      ],
      "metadata": {
        "colab": {
          "base_uri": "https://localhost:8080/"
        },
        "id": "4lsGYSmw_tiO",
        "outputId": "a3c249dd-95a4-4544-fcd0-24cb8a6ccdd4"
      },
      "execution_count": 108,
      "outputs": [
        {
          "output_type": "execute_result",
          "data": {
            "text/plain": [
              "rating                      0\n",
              "header                      0\n",
              "customer_name               0\n",
              "country                     0\n",
              "date                        0\n",
              "is_verified               224\n",
              "review                      0\n",
              "type_of_traveller           0\n",
              "seat_type                   0\n",
              "route                       2\n",
              "date_flown                  1\n",
              "seat_comfort               54\n",
              "cabin_staff_service        57\n",
              "food_and_beverages        119\n",
              "inflight_entertainment    282\n",
              "ground_service             32\n",
              "wifi_and_connectivity     574\n",
              "value_for_money             0\n",
              "recommended                 3\n",
              "dtype: int64"
            ]
          },
          "metadata": {},
          "execution_count": 108
        }
      ]
    },
    {
      "cell_type": "code",
      "source": [
        "df.value_for_money.value_counts()"
      ],
      "metadata": {
        "colab": {
          "base_uri": "https://localhost:8080/"
        },
        "id": "P647z29t_1rs",
        "outputId": "643a6ad5-6165-4092-8c73-a5557e176278"
      },
      "execution_count": 109,
      "outputs": [
        {
          "output_type": "execute_result",
          "data": {
            "text/plain": [
              "1    405\n",
              "5    147\n",
              "2    120\n",
              "4    108\n",
              "3     96\n",
              "Name: value_for_money, dtype: int64"
            ]
          },
          "metadata": {},
          "execution_count": 109
        }
      ]
    },
    {
      "cell_type": "markdown",
      "source": [
        "#### Mutual Information (MI) score graphs are used to visualize the relevance of each feature in the dataset with respect to the target variable. Mutual information is a measure of the dependency between two variables, and in the context of feature selection"
      ],
      "metadata": {
        "id": "eNyA8lpS8XrA"
      }
    },
    {
      "cell_type": "code",
      "source": [
        "X = df.drop('value_for_money', axis=1)\n",
        "y = df.value_for_money"
      ],
      "metadata": {
        "id": "wDtIoRRZABDf"
      },
      "execution_count": 110,
      "outputs": []
    },
    {
      "cell_type": "code",
      "source": [
        "for colname in X.select_dtypes(\"object\"):\n",
        "    X[colname], _ = X[colname].factorize()\n",
        "\n",
        "X.dropna(inplace=True)\n",
        "\n",
        "X.dtypes"
      ],
      "metadata": {
        "colab": {
          "base_uri": "https://localhost:8080/"
        },
        "id": "4w7CfycpHNu6",
        "outputId": "f15b23c9-48fe-4d95-d5c3-e510ce9ccb1a"
      },
      "execution_count": 111,
      "outputs": [
        {
          "output_type": "execute_result",
          "data": {
            "text/plain": [
              "rating                      int64\n",
              "header                      int64\n",
              "customer_name               int64\n",
              "country                     int64\n",
              "date                        int64\n",
              "is_verified                 int64\n",
              "review                      int64\n",
              "type_of_traveller           int64\n",
              "seat_type                   int64\n",
              "route                       int64\n",
              "date_flown                  int64\n",
              "seat_comfort              float64\n",
              "cabin_staff_service       float64\n",
              "food_and_beverages        float64\n",
              "inflight_entertainment    float64\n",
              "ground_service            float64\n",
              "wifi_and_connectivity     float64\n",
              "recommended                 int64\n",
              "dtype: object"
            ]
          },
          "metadata": {},
          "execution_count": 111
        }
      ]
    },
    {
      "cell_type": "code",
      "source": [
        "from sklearn.feature_selection import mutual_info_classif\n",
        "\n",
        "# Check the shapes of X and y\n",
        "print(\"Shape of X:\", X.shape)\n",
        "print(\"Shape of y:\", y.shape)\n",
        "\n",
        "# Ensure X and y have the same number of samples\n",
        "if X.shape[0] != y.shape[0]:\n",
        "    # If the number of samples is not consistent, take the common samples between X and y\n",
        "    common_samples = X.index.intersection(y.index)\n",
        "    X = X.loc[common_samples]\n",
        "    y = y.loc[common_samples]\n",
        "    print(\"After correction - Shape of X:\", X.shape)\n",
        "    print(\"After correction - Shape of y:\", y.shape)\n",
        "\n",
        "# Calculate mutual information scores\n",
        "mi_score = mutual_info_classif(X, y)\n",
        "\n",
        "# Create a pandas Series with feature names as index\n",
        "mi_score = pd.Series(mi_score, name=\"MI Score\", index=X.columns)\n",
        "\n",
        "# Sort the features based on mutual information score in descending order\n",
        "mi_score = mi_score.sort_values(ascending=False)"
      ],
      "metadata": {
        "id": "0s5b1FmWHPYf",
        "colab": {
          "base_uri": "https://localhost:8080/"
        },
        "outputId": "f72ada05-99f9-4498-d8f9-7687aa47f3e7"
      },
      "execution_count": 112,
      "outputs": [
        {
          "output_type": "stream",
          "name": "stdout",
          "text": [
            "Shape of X: (292, 18)\n",
            "Shape of y: (876,)\n",
            "After correction - Shape of X: (292, 18)\n",
            "After correction - Shape of y: (292,)\n"
          ]
        }
      ]
    },
    {
      "cell_type": "code",
      "source": [
        "mi_score"
      ],
      "metadata": {
        "colab": {
          "base_uri": "https://localhost:8080/"
        },
        "id": "zWmcD6ftIDp-",
        "outputId": "e022b567-f636-4703-b266-a33d8241c883"
      },
      "execution_count": 113,
      "outputs": [
        {
          "output_type": "execute_result",
          "data": {
            "text/plain": [
              "rating                    0.396720\n",
              "food_and_beverages        0.257183\n",
              "seat_comfort              0.245888\n",
              "ground_service            0.230483\n",
              "inflight_entertainment    0.186036\n",
              "wifi_and_connectivity     0.168668\n",
              "cabin_staff_service       0.159890\n",
              "date_flown                0.097315\n",
              "review                    0.081002\n",
              "date                      0.080203\n",
              "header                    0.075882\n",
              "customer_name             0.067251\n",
              "country                   0.059549\n",
              "route                     0.053797\n",
              "is_verified               0.027018\n",
              "seat_type                 0.016821\n",
              "type_of_traveller         0.000000\n",
              "recommended               0.000000\n",
              "Name: MI Score, dtype: float64"
            ]
          },
          "metadata": {},
          "execution_count": 113
        }
      ]
    },
    {
      "cell_type": "code",
      "source": [
        "def plot_mi_score(score, color='blue'):\n",
        "    score = score.sort_values(ascending=True)\n",
        "    width = np.arange(len(score))\n",
        "    ticks = list(score.index)\n",
        "    plt.barh(width, score, color=color)  # Set the color here\n",
        "    plt.yticks(width, ticks)\n",
        "    plt.title(\"Mutual Information Score Graph\")\n",
        "\n",
        "# Example usage with a different color (e.g., 'orange')\n",
        "plt.figure(dpi=100, figsize=(8, 5))\n",
        "plot_mi_score(mi_score, color='orange')\n",
        "plt.show()"
      ],
      "metadata": {
        "colab": {
          "base_uri": "https://localhost:8080/",
          "height": 468
        },
        "id": "Ct4agyQZJktW",
        "outputId": "69278d4f-2b2a-4166-f76c-400522eae5cd"
      },
      "execution_count": 114,
      "outputs": [
        {
          "output_type": "display_data",
          "data": {
            "text/plain": [
              "<Figure size 800x500 with 1 Axes>"
            ],
            "image/png": "[encoded data removed]"
          },
          "metadata": {}
        }
      ]
    },
    {
      "cell_type": "code",
      "source": [
        "# test and train\n",
        "from sklearn.model_selection import train_test_split"
      ],
      "metadata": {
        "id": "g2wFcpEVJ-VF"
      },
      "execution_count": 115,
      "outputs": []
    },
    {
      "cell_type": "markdown",
      "source": [
        "### Test and train split is a crucial step in the process of building and evaluating machine learning models. It involves dividing the available dataset into two separate sets: the training set and the test set."
      ],
      "metadata": {
        "id": "-CbCjkkRP5e4"
      }
    },
    {
      "cell_type": "code",
      "source": [
        "# Split the data into training and testing sets\n",
        "X_train, X_test, y_train, y_test = train_test_split(X, y, test_size=0.2, random_state=42)\n"
      ],
      "metadata": {
        "id": "hca5umzGcXkz"
      },
      "execution_count": 116,
      "outputs": []
    },
    {
      "cell_type": "code",
      "source": [
        "# Split the data into training and temporary sets\n",
        "X_train, X_temp, y_train, y_temp = train_test_split(X, y, test_size=0.2, random_state=42)\n",
        "\n",
        "# Now, split the temporary set into validation and final testing sets\n",
        "X_validation, X_test, y_validation, y_test = train_test_split(X_temp, y_temp, test_size=0.5, random_state=42)"
      ],
      "metadata": {
        "id": "yvFp85eqcxeZ"
      },
      "execution_count": 117,
      "outputs": []
    },
    {
      "cell_type": "markdown",
      "source": [
        "### The reason we train a machine learning model is to learn patterns and relationships within the data that can be used to make predictions or classifications on new, unseen data."
      ],
      "metadata": {
        "id": "g9NhMac3P9Jz"
      }
    },
    {
      "cell_type": "markdown",
      "source": [
        "#### The fit method of the MinMaxScaler is used to compute the minimum and maximum values for scaling, but we are returning the original data X instead of the scaled data."
      ],
      "metadata": {
        "id": "3beSNfEOdZJu"
      }
    },
    {
      "cell_type": "code",
      "source": [
        "from sklearn.preprocessing import MinMaxScaler\n",
        "\n",
        "def scale(X):\n",
        "    scaler = MinMaxScaler()\n",
        "    scaled_X = scaler.fit_transform(X)\n",
        "    return scaled_X\n"
      ],
      "metadata": {
        "id": "3HCI-OqgdSQu"
      },
      "execution_count": 118,
      "outputs": []
    },
    {
      "cell_type": "markdown",
      "source": [
        "#### Min-Max Scaling (also known as normalization) is a preprocessing technique used to scale numerical features to a fixed range, typically between 0 and 1. It transforms the original feature values into a normalized range to ensure that all features have the same scale."
      ],
      "metadata": {
        "id": "M1l7L6oQQhE4"
      }
    },
    {
      "cell_type": "markdown",
      "source": [
        "### **Training Random Forest Classifier With Top-6 Features**\n",
        "### The decision to use a Random Forest classifier with top 6 features depends on the specific problem, the dataset characteristics, and the desired trade-offs between performance, interpretability, and resource efficiency."
      ],
      "metadata": {
        "id": "8G6nykZ16ziy"
      }
    },
    {
      "cell_type": "code",
      "source": [
        "from sklearn.model_selection import train_test_split\n",
        "from sklearn.ensemble import RandomForestClassifier\n",
        "from sklearn.preprocessing import MinMaxScaler\n",
        "\n",
        "# X:- Features (With all selected features as columns)\n",
        "# y:- Target Variable\n",
        "\n",
        "# Select the top 5 features based on mutual information score\n",
        "mi_score = mutual_info_classif(X, y)\n",
        "mi_score = pd.Series(mi_score, name=\"MI Score\", index=X.columns)\n",
        "selected_features = mi_score.sort_values(ascending=False).index[:5]\n",
        "\n",
        "#Convert the target variable to start from 0 (if needed)\n",
        "y = y - y.min()\n",
        "\n",
        "#Scale the features (optional but recommended for many machine learning algorithms)\n",
        "scaler = MinMaxScaler()\n",
        "X_scaled = scaler.fit_transform(X)\n",
        "\n",
        "#Split the data into training and testing sets\n",
        "X_train, X_test, y_train, y_test = train_test_split(X_scaled, y, test_size=0.2, random_state=42)\n",
        "\n",
        "# Train the Random Forest classifier using the selected features\n",
        "X_train_selected = X_train[:, [X.columns.get_loc(col) for col in selected_features]]\n",
        "X_test_selected = X_test[:, [X.columns.get_loc(col) for col in selected_features]]\n",
        "\n",
        "rf_classifier = RandomForestClassifier()\n",
        "rf_classifier.fit(X_train_selected, y_train)\n",
        "\n",
        "# Evaluate the model on the test set\n",
        "accuracy = rf_classifier.score(X_test_selected, y_test)\n",
        "print(\"Accuracy SCore:\", accuracy*100)\n",
        "print(\"Accuracy:\", accuracy)"
      ],
      "metadata": {
        "colab": {
          "base_uri": "https://localhost:8080/"
        },
        "id": "kcU--FObdd8a",
        "outputId": "1c1b4854-a817-4ab5-bb80-8889870ab6b2"
      },
      "execution_count": 119,
      "outputs": [
        {
          "output_type": "stream",
          "name": "stdout",
          "text": [
            "Accuracy SCore: 74.57627118644068\n",
            "Accuracy: 0.7457627118644068\n"
          ]
        }
      ]
    },
    {
      "cell_type": "markdown",
      "source": [
        "### **Training Random Forest Classifier With all Features**\n",
        "#### Using a Random Forest classifier with all features can be advantageous when dealing with complex datasets, as it allows the model to leverage the full information present in the data."
      ],
      "metadata": {
        "id": "98RJMW9s6cuz"
      }
    },
    {
      "cell_type": "code",
      "source": [
        "from sklearn.model_selection import train_test_split\n",
        "from sklearn.ensemble import RandomForestClassifier\n",
        "from sklearn.preprocessing import MinMaxScaler\n",
        "import pandas as pd\n",
        "\n",
        "# X: Features\n",
        "# y: Target Variable\n",
        "\n",
        "# Remove rows with missing values from X and y\n",
        "X.dropna(inplace=True)\n",
        "y = y[X.index]  # Align the target variable y with the updated X\n",
        "\n",
        "# Scale the features (optional but recommended for many machine learning algorithms)\n",
        "scaler = MinMaxScaler()\n",
        "X_scaled = scaler.fit_transform(X)\n",
        "\n",
        "# Split the data into training and testing sets\n",
        "X_train, X_test, y_train, y_test = train_test_split(X_scaled, y, test_size=0.2, random_state=42)\n",
        "\n",
        "#Train the Random Forest classifier using all features\n",
        "rf_classifier = RandomForestClassifier()\n",
        "rf_classifier.fit(X_train, y_train)\n",
        "\n",
        "# Evaluate the model on the test set\n",
        "accuracy = rf_classifier.score(X_test, y_test)\n",
        "print(\"Accuracy:\", accuracy*100)\n",
        "print(\"Accuracy Score:\", accuracy)"
      ],
      "metadata": {
        "colab": {
          "base_uri": "https://localhost:8080/"
        },
        "id": "MnT2lCGtizpQ",
        "outputId": "4715fae8-81b5-446b-d192-848bad642a66"
      },
      "execution_count": 120,
      "outputs": [
        {
          "output_type": "stream",
          "name": "stdout",
          "text": [
            "Accuracy: 71.1864406779661\n",
            "Accuracy Score: 0.711864406779661\n"
          ]
        }
      ]
    },
    {
      "cell_type": "markdown",
      "source": [
        "### Random Forest is an ensemble learning method that combines multiple decision trees. By using all features, the model can capture complex relationships and interactions between different features, leading to a potentially more accurate and robust model."
      ],
      "metadata": {
        "id": "VlKH2KN6_Q8V"
      }
    },
    {
      "cell_type": "markdown",
      "source": [
        " ### **Training XGB Classifier With Top-6 Features**\n",
        "\n",
        " ## Training an XGBoost (Extreme Gradient Boosting)\n",
        "\n",
        " ### Training an XGBoost classifier with the top 6 features can be a pragmatic approach when computational resources are limited, interpretability is a priority, or when there is a concern about overfitting."
      ],
      "metadata": {
        "id": "Wd1GfHOe51-8"
      }
    },
    {
      "cell_type": "code",
      "source": [
        "from sklearn.model_selection import train_test_split\n",
        "from sklearn.preprocessing import MinMaxScaler\n",
        "from xgboost import XGBClassifier\n",
        "\n",
        "# X:- Features (with all the selected features as columns)\n",
        "# y:- Target Variable\n",
        "\n",
        "# Select the top 6 features based on mutual information score\n",
        "selected_features = ['rating', 'food_and_beverages', 'ground_service', 'seat_comfort', 'inflight_entertainment']\n",
        "\n",
        "# Ensure the selected features are present in the DataFrame\n",
        "if all(feature in X.columns for feature in selected_features):\n",
        "    X = X[selected_features]\n",
        "else:\n",
        "    raise ValueError(\"One or more selected features are not present in the DataFrame.\")\n",
        "\n",
        "# Convert the target variable to start from 0 (if needed)\n",
        "y = y - y.min()\n",
        "\n",
        "# Scale the features (optional but recommended for many machine learning algorithms)\n",
        "scaler = MinMaxScaler()\n",
        "X_scaled = scaler.fit_transform(X)\n",
        "\n",
        "# Split the data into training and testing sets\n",
        "X_train, X_test, y_train, y_test = train_test_split(X_scaled, y, test_size=0.2, random_state=42)\n",
        "\n",
        "# Train the XGBoost classifier using the top 6 features\n",
        "xgb_classifier = XGBClassifier()\n",
        "xgb_classifier.fit(X_train, y_train)\n",
        "\n",
        "# Evaluate the model on the test set\n",
        "accuracy = xgb_classifier.score(X_test, y_test)\n",
        "print(\"Accuracy Score:\", accuracy)\n",
        "print(\"Accuracy:\", accuracy*100)\n"
      ],
      "metadata": {
        "colab": {
          "base_uri": "https://localhost:8080/"
        },
        "id": "xrTF1XndlWZ2",
        "outputId": "c4dff309-3a24-446f-b76c-8ec8c6b52cb0"
      },
      "execution_count": 121,
      "outputs": [
        {
          "output_type": "stream",
          "name": "stdout",
          "text": [
            "Accuracy Score: 0.711864406779661\n",
            "Accuracy: 71.1864406779661\n"
          ]
        }
      ]
    },
    {
      "cell_type": "markdown",
      "source": [
        "#### **Training XGB Classifier With All Features**\n",
        "\n",
        "### Training the XGBoost classifier with all features can be a reasonable approach when the dataset is not too large, and computational resources are sufficient."
      ],
      "metadata": {
        "id": "QyJzuTlh5hlO"
      }
    },
    {
      "cell_type": "code",
      "source": [
        "from sklearn.model_selection import train_test_split\n",
        "from sklearn.preprocessing import MinMaxScaler\n",
        "from xgboost import XGBClassifier\n",
        "\n",
        "# X:- Features\n",
        "# y:- Target variable\n",
        "\n",
        "# Select all features based on mutual information score\n",
        "mi_score = mutual_info_classif(X, y)\n",
        "mi_score = pd.Series(mi_score, name=\"MI Score\", index=X.columns)\n",
        "selected_features = mi_score.sort_values(ascending=False).index\n",
        "\n",
        "# Convert the target variable to start from 0 (if needed)\n",
        "y = y - y.min()\n",
        "\n",
        "# Scale the features (optional but recommended for many machine learning algorithms)\n",
        "scaler = MinMaxScaler()\n",
        "X_scaled = scaler.fit_transform(X)\n",
        "\n",
        "# Split the data into training and testing sets\n",
        "X_train, X_test, y_train, y_test = train_test_split(X_scaled, y, test_size=0.2, random_state=42)\n",
        "\n",
        "# Train the XGBoost classifier using all features\n",
        "xgb_classifier = XGBClassifier()\n",
        "xgb_classifier.fit(X_train, y_train)\n",
        "\n",
        "# Evaluate the model on the test set\n",
        "accuracy = xgb_classifier.score(X_test, y_test)\n",
        "print(\"Accuracy Score:\", accuracy)\n",
        "print(\"Accuracy:\", accuracy*100)"
      ],
      "metadata": {
        "colab": {
          "base_uri": "https://localhost:8080/"
        },
        "id": "RMLrrA_OmceJ",
        "outputId": "0e3fa7df-67a6-47b5-9652-92617e894666"
      },
      "execution_count": 122,
      "outputs": [
        {
          "output_type": "stream",
          "name": "stdout",
          "text": [
            "Accuracy Score: 0.711864406779661\n",
            "Accuracy: 71.1864406779661\n"
          ]
        }
      ]
    },
    {
      "cell_type": "markdown",
      "source": [
        "### XGBoost is a powerful machine learning algorithm known for its ability to capture complex relationships in the data. By using all available features, the model can potentially exploit intricate patterns and interactions among the features, leading to more accurate predictions."
      ],
      "metadata": {
        "id": "xlNDl0-U_Unp"
      }
    },
    {
      "cell_type": "markdown",
      "source": [
        "## **Validating Model With Test Dataset**\n",
        "\n",
        "#### Validating the model on the test dataset is an essential step in the machine learning workflow to assess how well the model performs on unseen data."
      ],
      "metadata": {
        "id": "wS9xcj3Z4rNq"
      }
    },
    {
      "cell_type": "code",
      "source": [
        "from sklearn.model_selection import train_test_split\n",
        "from sklearn.preprocessing import MinMaxScaler\n",
        "from sklearn.ensemble import RandomForestClassifier\n",
        "\n",
        "# X:- Features\n",
        "# y:- Target variable\n",
        "\n",
        "# Select all features based on mutual information score\n",
        "mi_score = mutual_info_classif(X, y)\n",
        "mi_score = pd.Series(mi_score, name=\"MI Score\", index=X.columns)\n",
        "selected_features = mi_score.sort_values(ascending=False).index\n",
        "\n",
        "# Convert the target variable to start from 0 (if needed)\n",
        "y = y - y.min()\n",
        "\n",
        "# Scale the features (optional but recommended for many machine learning algorithms)\n",
        "scaler = MinMaxScaler()\n",
        "X_scaled = scaler.fit_transform(X)\n",
        "\n",
        "# Split the data into training and testing sets\n",
        "X_train, X_test, y_train, y_test = train_test_split(X_scaled, y, test_size=0.2, random_state=42)\n",
        "\n",
        "# Train the Random Forest classifier using all features\n",
        "rf_classifier = RandomForestClassifier(random_state=1)\n",
        "rf_classifier.fit(X_train, y_train)\n",
        "\n",
        "# Use the trained classifier to make predictions on the test set\n",
        "y_pred = rf_classifier.predict(X_test)\n",
        "\n",
        "# Evaluate the model on the test set\n",
        "accuracy = rf_classifier.score(X_test, y_test)\n",
        "print(\"Accuracy:\", accuracy*100)\n",
        "print(\"Accuracy Score:\", accuracy)"
      ],
      "metadata": {
        "colab": {
          "base_uri": "https://localhost:8080/"
        },
        "id": "6xs2GfXSpiNL",
        "outputId": "d0ce853e-30aa-4449-b40b-77e4d79c14e6"
      },
      "execution_count": 123,
      "outputs": [
        {
          "output_type": "stream",
          "name": "stdout",
          "text": [
            "Accuracy: 71.1864406779661\n",
            "Accuracy Score: 0.711864406779661\n"
          ]
        }
      ]
    },
    {
      "cell_type": "markdown",
      "source": [
        "## **WHAT WE ANALYZE HERE:-**\n",
        "\n",
        "**1. Data Preprocessing:-** We started by performing data preprocessing tasks such as handling missing values, encoding categorical variables, and converting the target variable to start from 0.\n",
        "\n",
        "**2. Feature Selection:-** We used mutual information scores to select the top 6 features that have the highest predictive power for the target variable. These features are 'rating', 'seat_comfort', 'ground_service', 'food_and_beverages', 'inflight_entertainment', and 'wifi_and_connectivity'.\n",
        "\n",
        "**3. Model Training:-** We trained two classifiers using the selected features:\n",
        "\n",
        "   - Random Forest Classifier: We used the Random Forest classifier with the top 6 features and achieved a good accuracy on the test set.\n",
        "   - XGBoost Classifier: We also trained an XGBoost classifier with the top 6 features and achieved good performance.\n",
        "\n",
        "**4. Model Evaluation:-** We evaluated both models using the test set and found that both classifiers have good accuracy and performance.\n",
        "\n",
        "## **OUR FINAL CONCLUSION IS:-**\n",
        "\n",
        "Since the Random Forest classifier showed slightly higher accuracy and Accuracy score compared to the XGBoost classifier, we chose the Random Forest classifier with the top 6 features as our final model.\n",
        "\n",
        "The final Random Forest classifier with the selected features can be used to predict customer satisfaction or any other target variable in the dataset. However, but the model's performance might vary depending on the quality and representativeness of the data used for training.\n"
      ],
      "metadata": {
        "id": "kgIdprak85U3"
      }
    }
  ]
}