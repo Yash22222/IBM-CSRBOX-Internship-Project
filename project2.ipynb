{
  "nbformat": 4,
  "nbformat_minor": 0,
  "metadata": {
    "colab": {
      "provenance": [],
      "authorship_tag": "ABX9TyOJ6Vq1I6ePZ5yHSqwDkMzH",
      "include_colab_link": true
    },
    "kernelspec": {
      "name": "python3",
      "display_name": "Python 3"
    },
    "language_info": {
      "name": "python"
    }
  },
  "cells": [
    {
      "cell_type": "markdown",
      "metadata": {
        "id": "view-in-github",
        "colab_type": "text"
      },
      "source": [
        "<a href=\"https://colab.research.google.com/github/skateryash/IBM-CSRBOX-Internship-Project/blob/main/project2.ipynb\" target=\"_parent\"><img src=\"https://colab.research.google.com/assets/colab-badge.svg\" alt=\"Open In Colab\"/></a>"
      ]
    },
    {
      "cell_type": "code",
      "source": [
        "!pip install warn"
      ],
      "metadata": {
        "colab": {
          "base_uri": "https://localhost:8080/"
        },
        "id": "R9nQnFoc9NOy",
        "outputId": "1207e7b6-79c1-4efc-d2bc-04ac6301817c"
      },
      "execution_count": null,
      "outputs": [
        {
          "output_type": "stream",
          "name": "stdout",
          "text": [
            "Collecting warn\n",
            "  Downloading warn-0.1.0-py2.py3-none-any.whl (23 kB)\n",
            "Installing collected packages: warn\n",
            "Successfully installed warn-0.1.0\n"
          ]
        }
      ]
    },
    {
      "cell_type": "code",
      "execution_count": 2,
      "metadata": {
        "id": "2IdMOMx97nJD"
      },
      "outputs": [],
      "source": [
        "import pandas as pd\n",
        "import matplotlib.pyplot as plt\n",
        "%matplotlib inline\n",
        "import seaborn as sns\n",
        "import numpy as np\n",
        "import warnings\n",
        "warnings.filterwarnings(\"ignore\")\n",
        "import chardet"
      ]
    },
    {
      "cell_type": "code",
      "source": [
        "data = 'cleaned_output_data.csv'"
      ],
      "metadata": {
        "id": "STVX0Lyc9Lbh"
      },
      "execution_count": 3,
      "outputs": []
    },
    {
      "cell_type": "code",
      "source": [
        "with open('cleaned_output_data.csv', 'rb') as rawdata:\n",
        "  result = chardet.detect(rawdata.read(100000))\n",
        "\n",
        "print(result)"
      ],
      "metadata": {
        "colab": {
          "base_uri": "https://localhost:8080/"
        },
        "id": "lzBgRm_W9_v9",
        "outputId": "e3b1de24-9e9f-443d-8e5a-8deccc33ba47"
      },
      "execution_count": 5,
      "outputs": [
        {
          "output_type": "stream",
          "name": "stdout",
          "text": [
            "{'encoding': 'utf-8', 'confidence': 0.99, 'language': ''}\n"
          ]
        }
      ]
    },
    {
      "cell_type": "code",
      "source": [
        "df = pd.read_csv(data, encoding= 'utf-8')"
      ],
      "metadata": {
        "id": "p_FZ-voD_I5T"
      },
      "execution_count": 6,
      "outputs": []
    },
    {
      "cell_type": "code",
      "source": [
        "df.head()"
      ],
      "metadata": {
        "colab": {
          "base_uri": "https://localhost:8080/",
          "height": 669
        },
        "id": "BR8PY7v8_fuh",
        "outputId": "ce79df44-205f-4da9-dfd2-630ec73e6ce0"
      },
      "execution_count": 7,
      "outputs": [
        {
          "output_type": "execute_result",
          "data": {
            "text/plain": [
              "   rating                             header      customer_name  \\\n",
              "0       1         \"was given a regular meal\"       Simon Taylor   \n",
              "1       1        \"both times it was torture\"      Rohit Kaushal   \n",
              "2       1  \"flight was disgusting and dirty\"  Ann Benny Alackal   \n",
              "3       1       \"gotten progressively worse\"            R Singh   \n",
              "4       2                \"most disappointed\"            S Sethi   \n",
              "\n",
              "          country            date    is_verified  \\\n",
              "0  United Kingdom  22nd July 2023  Trip Verified   \n",
              "1       Australia  20th July 2023   Not Verified   \n",
              "2   United States  18th July 2023   Not Verified   \n",
              "3   United States  18th July 2023  Trip Verified   \n",
              "4           India  17th July 2023   Not Verified   \n",
              "\n",
              "                                              review type_of_traveller  \\\n",
              "0  ✅ Trip Verified |  Requested a gluten free mea...      Solo Leisure   \n",
              "1  Not Verified | Worst planes I have ever been i...          Business   \n",
              "2  Not Verified | I have been flying for the past...    Couple Leisure   \n",
              "3  ✅ Trip Verified | Sometime around 2017 I got t...      Solo Leisure   \n",
              "4  Not Verified |  My flight was supposed to depa...      Solo Leisure   \n",
              "\n",
              "       seat_type                        route date_flown  seat_comfort  \\\n",
              "0  Economy Class               Gatwick to Goa     May-23           3.0   \n",
              "1  Economy Class           Melbourne to Delhi     May-23           1.0   \n",
              "2  Economy Class                          NaN     Jul-23           1.0   \n",
              "3  Economy Class  Kolkata to Newark via Delhi     Jun-23           1.0   \n",
              "4  Economy Class           Delhi to Singapore     Jul-23           2.0   \n",
              "\n",
              "   cabin_staff_service  food_and_beverages  inflight_entertainment  \\\n",
              "0                  2.0                 1.0                     2.0   \n",
              "1                  1.0                 3.0                     NaN   \n",
              "2                  5.0                 1.0                     NaN   \n",
              "3                  1.0                 1.0                     1.0   \n",
              "4                  2.0                 1.0                     1.0   \n",
              "\n",
              "   ground_service  wifi_and_connectivity  value_for_money recommended  \n",
              "0             3.0                    NaN                1          no  \n",
              "1             1.0                    NaN                1          no  \n",
              "2             1.0                    NaN                1          no  \n",
              "3             1.0                    1.0                1          no  \n",
              "4             2.0                    NaN                2          no  "
            ],
            "text/html": [
              "\n",
              "\n",
              "  <div id=\"df-d0717ecc-848a-422d-a2a4-e04d6186f8f4\">\n",
              "    <div class=\"colab-df-container\">\n",
              "      <div>\n",
              "<style scoped>\n",
              "    .dataframe tbody tr th:only-of-type {\n",
              "        vertical-align: middle;\n",
              "    }\n",
              "\n",
              "    .dataframe tbody tr th {\n",
              "        vertical-align: top;\n",
              "    }\n",
              "\n",
              "    .dataframe thead th {\n",
              "        text-align: right;\n",
              "    }\n",
              "</style>\n",
              "<table border=\"1\" class=\"dataframe\">\n",
              "  <thead>\n",
              "    <tr style=\"text-align: right;\">\n",
              "      <th></th>\n",
              "      <th>rating</th>\n",
              "      <th>header</th>\n",
              "      <th>customer_name</th>\n",
              "      <th>country</th>\n",
              "      <th>date</th>\n",
              "      <th>is_verified</th>\n",
              "      <th>review</th>\n",
              "      <th>type_of_traveller</th>\n",
              "      <th>seat_type</th>\n",
              "      <th>route</th>\n",
              "      <th>date_flown</th>\n",
              "      <th>seat_comfort</th>\n",
              "      <th>cabin_staff_service</th>\n",
              "      <th>food_and_beverages</th>\n",
              "      <th>inflight_entertainment</th>\n",
              "      <th>ground_service</th>\n",
              "      <th>wifi_and_connectivity</th>\n",
              "      <th>value_for_money</th>\n",
              "      <th>recommended</th>\n",
              "    </tr>\n",
              "  </thead>\n",
              "  <tbody>\n",
              "    <tr>\n",
              "      <th>0</th>\n",
              "      <td>1</td>\n",
              "      <td>\"was given a regular meal\"</td>\n",
              "      <td>Simon Taylor</td>\n",
              "      <td>United Kingdom</td>\n",
              "      <td>22nd July 2023</td>\n",
              "      <td>Trip Verified</td>\n",
              "      <td>✅ Trip Verified |  Requested a gluten free mea...</td>\n",
              "      <td>Solo Leisure</td>\n",
              "      <td>Economy Class</td>\n",
              "      <td>Gatwick to Goa</td>\n",
              "      <td>May-23</td>\n",
              "      <td>3.0</td>\n",
              "      <td>2.0</td>\n",
              "      <td>1.0</td>\n",
              "      <td>2.0</td>\n",
              "      <td>3.0</td>\n",
              "      <td>NaN</td>\n",
              "      <td>1</td>\n",
              "      <td>no</td>\n",
              "    </tr>\n",
              "    <tr>\n",
              "      <th>1</th>\n",
              "      <td>1</td>\n",
              "      <td>\"both times it was torture\"</td>\n",
              "      <td>Rohit Kaushal</td>\n",
              "      <td>Australia</td>\n",
              "      <td>20th July 2023</td>\n",
              "      <td>Not Verified</td>\n",
              "      <td>Not Verified | Worst planes I have ever been i...</td>\n",
              "      <td>Business</td>\n",
              "      <td>Economy Class</td>\n",
              "      <td>Melbourne to Delhi</td>\n",
              "      <td>May-23</td>\n",
              "      <td>1.0</td>\n",
              "      <td>1.0</td>\n",
              "      <td>3.0</td>\n",
              "      <td>NaN</td>\n",
              "      <td>1.0</td>\n",
              "      <td>NaN</td>\n",
              "      <td>1</td>\n",
              "      <td>no</td>\n",
              "    </tr>\n",
              "    <tr>\n",
              "      <th>2</th>\n",
              "      <td>1</td>\n",
              "      <td>\"flight was disgusting and dirty\"</td>\n",
              "      <td>Ann Benny Alackal</td>\n",
              "      <td>United States</td>\n",
              "      <td>18th July 2023</td>\n",
              "      <td>Not Verified</td>\n",
              "      <td>Not Verified | I have been flying for the past...</td>\n",
              "      <td>Couple Leisure</td>\n",
              "      <td>Economy Class</td>\n",
              "      <td>NaN</td>\n",
              "      <td>Jul-23</td>\n",
              "      <td>1.0</td>\n",
              "      <td>5.0</td>\n",
              "      <td>1.0</td>\n",
              "      <td>NaN</td>\n",
              "      <td>1.0</td>\n",
              "      <td>NaN</td>\n",
              "      <td>1</td>\n",
              "      <td>no</td>\n",
              "    </tr>\n",
              "    <tr>\n",
              "      <th>3</th>\n",
              "      <td>1</td>\n",
              "      <td>\"gotten progressively worse\"</td>\n",
              "      <td>R Singh</td>\n",
              "      <td>United States</td>\n",
              "      <td>18th July 2023</td>\n",
              "      <td>Trip Verified</td>\n",
              "      <td>✅ Trip Verified | Sometime around 2017 I got t...</td>\n",
              "      <td>Solo Leisure</td>\n",
              "      <td>Economy Class</td>\n",
              "      <td>Kolkata to Newark via Delhi</td>\n",
              "      <td>Jun-23</td>\n",
              "      <td>1.0</td>\n",
              "      <td>1.0</td>\n",
              "      <td>1.0</td>\n",
              "      <td>1.0</td>\n",
              "      <td>1.0</td>\n",
              "      <td>1.0</td>\n",
              "      <td>1</td>\n",
              "      <td>no</td>\n",
              "    </tr>\n",
              "    <tr>\n",
              "      <th>4</th>\n",
              "      <td>2</td>\n",
              "      <td>\"most disappointed\"</td>\n",
              "      <td>S Sethi</td>\n",
              "      <td>India</td>\n",
              "      <td>17th July 2023</td>\n",
              "      <td>Not Verified</td>\n",
              "      <td>Not Verified |  My flight was supposed to depa...</td>\n",
              "      <td>Solo Leisure</td>\n",
              "      <td>Economy Class</td>\n",
              "      <td>Delhi to Singapore</td>\n",
              "      <td>Jul-23</td>\n",
              "      <td>2.0</td>\n",
              "      <td>2.0</td>\n",
              "      <td>1.0</td>\n",
              "      <td>1.0</td>\n",
              "      <td>2.0</td>\n",
              "      <td>NaN</td>\n",
              "      <td>2</td>\n",
              "      <td>no</td>\n",
              "    </tr>\n",
              "  </tbody>\n",
              "</table>\n",
              "</div>\n",
              "      <button class=\"colab-df-convert\" onclick=\"convertToInteractive('df-d0717ecc-848a-422d-a2a4-e04d6186f8f4')\"\n",
              "              title=\"Convert this dataframe to an interactive table.\"\n",
              "              style=\"display:none;\">\n",
              "\n",
              "  <svg xmlns=\"http://www.w3.org/2000/svg\" height=\"24px\"viewBox=\"0 0 24 24\"\n",
              "       width=\"24px\">\n",
              "    <path d=\"M0 0h24v24H0V0z\" fill=\"none\"/>\n",
              "    <path d=\"M18.56 5.44l.94 2.06.94-2.06 2.06-.94-2.06-.94-.94-2.06-.94 2.06-2.06.94zm-11 1L8.5 8.5l.94-2.06 2.06-.94-2.06-.94L8.5 2.5l-.94 2.06-2.06.94zm10 10l.94 2.06.94-2.06 2.06-.94-2.06-.94-.94-2.06-.94 2.06-2.06.94z\"/><path d=\"M17.41 7.96l-1.37-1.37c-.4-.4-.92-.59-1.43-.59-.52 0-1.04.2-1.43.59L10.3 9.45l-7.72 7.72c-.78.78-.78 2.05 0 2.83L4 21.41c.39.39.9.59 1.41.59.51 0 1.02-.2 1.41-.59l7.78-7.78 2.81-2.81c.8-.78.8-2.07 0-2.86zM5.41 20L4 18.59l7.72-7.72 1.47 1.35L5.41 20z\"/>\n",
              "  </svg>\n",
              "      </button>\n",
              "\n",
              "\n",
              "\n",
              "    <div id=\"df-9d9a53e8-1561-42ba-810f-3ec890767313\">\n",
              "      <button class=\"colab-df-quickchart\" onclick=\"quickchart('df-9d9a53e8-1561-42ba-810f-3ec890767313')\"\n",
              "              title=\"Suggest charts.\"\n",
              "              style=\"display:none;\">\n",
              "\n",
              "<svg xmlns=\"http://www.w3.org/2000/svg\" height=\"24px\"viewBox=\"0 0 24 24\"\n",
              "     width=\"24px\">\n",
              "    <g>\n",
              "        <path d=\"M19 3H5c-1.1 0-2 .9-2 2v14c0 1.1.9 2 2 2h14c1.1 0 2-.9 2-2V5c0-1.1-.9-2-2-2zM9 17H7v-7h2v7zm4 0h-2V7h2v10zm4 0h-2v-4h2v4z\"/>\n",
              "    </g>\n",
              "</svg>\n",
              "      </button>\n",
              "    </div>\n",
              "\n",
              "<style>\n",
              "  .colab-df-quickchart {\n",
              "    background-color: #E8F0FE;\n",
              "    border: none;\n",
              "    border-radius: 50%;\n",
              "    cursor: pointer;\n",
              "    display: none;\n",
              "    fill: #1967D2;\n",
              "    height: 32px;\n",
              "    padding: 0 0 0 0;\n",
              "    width: 32px;\n",
              "  }\n",
              "\n",
              "  .colab-df-quickchart:hover {\n",
              "    background-color: #E2EBFA;\n",
              "    box-shadow: 0px 1px 2px rgba(60, 64, 67, 0.3), 0px 1px 3px 1px rgba(60, 64, 67, 0.15);\n",
              "    fill: #174EA6;\n",
              "  }\n",
              "\n",
              "  [theme=dark] .colab-df-quickchart {\n",
              "    background-color: #3B4455;\n",
              "    fill: #D2E3FC;\n",
              "  }\n",
              "\n",
              "  [theme=dark] .colab-df-quickchart:hover {\n",
              "    background-color: #434B5C;\n",
              "    box-shadow: 0px 1px 3px 1px rgba(0, 0, 0, 0.15);\n",
              "    filter: drop-shadow(0px 1px 2px rgba(0, 0, 0, 0.3));\n",
              "    fill: #FFFFFF;\n",
              "  }\n",
              "</style>\n",
              "\n",
              "    <script>\n",
              "      async function quickchart(key) {\n",
              "        const containerElement = document.querySelector('#' + key);\n",
              "        const charts = await google.colab.kernel.invokeFunction(\n",
              "            'suggestCharts', [key], {});\n",
              "      }\n",
              "    </script>\n",
              "\n",
              "      <script>\n",
              "\n",
              "function displayQuickchartButton(domScope) {\n",
              "  let quickchartButtonEl =\n",
              "    domScope.querySelector('#df-9d9a53e8-1561-42ba-810f-3ec890767313 button.colab-df-quickchart');\n",
              "  quickchartButtonEl.style.display =\n",
              "    google.colab.kernel.accessAllowed ? 'block' : 'none';\n",
              "}\n",
              "\n",
              "        displayQuickchartButton(document);\n",
              "      </script>\n",
              "      <style>\n",
              "    .colab-df-container {\n",
              "      display:flex;\n",
              "      flex-wrap:wrap;\n",
              "      gap: 12px;\n",
              "    }\n",
              "\n",
              "    .colab-df-convert {\n",
              "      background-color: #E8F0FE;\n",
              "      border: none;\n",
              "      border-radius: 50%;\n",
              "      cursor: pointer;\n",
              "      display: none;\n",
              "      fill: #1967D2;\n",
              "      height: 32px;\n",
              "      padding: 0 0 0 0;\n",
              "      width: 32px;\n",
              "    }\n",
              "\n",
              "    .colab-df-convert:hover {\n",
              "      background-color: #E2EBFA;\n",
              "      box-shadow: 0px 1px 2px rgba(60, 64, 67, 0.3), 0px 1px 3px 1px rgba(60, 64, 67, 0.15);\n",
              "      fill: #174EA6;\n",
              "    }\n",
              "\n",
              "    [theme=dark] .colab-df-convert {\n",
              "      background-color: #3B4455;\n",
              "      fill: #D2E3FC;\n",
              "    }\n",
              "\n",
              "    [theme=dark] .colab-df-convert:hover {\n",
              "      background-color: #434B5C;\n",
              "      box-shadow: 0px 1px 3px 1px rgba(0, 0, 0, 0.15);\n",
              "      filter: drop-shadow(0px 1px 2px rgba(0, 0, 0, 0.3));\n",
              "      fill: #FFFFFF;\n",
              "    }\n",
              "  </style>\n",
              "\n",
              "      <script>\n",
              "        const buttonEl =\n",
              "          document.querySelector('#df-d0717ecc-848a-422d-a2a4-e04d6186f8f4 button.colab-df-convert');\n",
              "        buttonEl.style.display =\n",
              "          google.colab.kernel.accessAllowed ? 'block' : 'none';\n",
              "\n",
              "        async function convertToInteractive(key) {\n",
              "          const element = document.querySelector('#df-d0717ecc-848a-422d-a2a4-e04d6186f8f4');\n",
              "          const dataTable =\n",
              "            await google.colab.kernel.invokeFunction('convertToInteractive',\n",
              "                                                     [key], {});\n",
              "          if (!dataTable) return;\n",
              "\n",
              "          const docLinkHtml = 'Like what you see? Visit the ' +\n",
              "            '<a target=\"_blank\" href=https://colab.research.google.com/notebooks/data_table.ipynb>data table notebook</a>'\n",
              "            + ' to learn more about interactive tables.';\n",
              "          element.innerHTML = '';\n",
              "          dataTable['output_type'] = 'display_data';\n",
              "          await google.colab.output.renderOutput(dataTable, element);\n",
              "          const docLink = document.createElement('div');\n",
              "          docLink.innerHTML = docLinkHtml;\n",
              "          element.appendChild(docLink);\n",
              "        }\n",
              "      </script>\n",
              "    </div>\n",
              "  </div>\n"
            ]
          },
          "metadata": {},
          "execution_count": 7
        }
      ]
    },
    {
      "cell_type": "code",
      "source": [
        "df.dtypes"
      ],
      "metadata": {
        "colab": {
          "base_uri": "https://localhost:8080/"
        },
        "id": "Ukh4BlVc_hPJ",
        "outputId": "1a323210-e04f-46a7-a7a1-dcb9b9ba32ed"
      },
      "execution_count": 8,
      "outputs": [
        {
          "output_type": "execute_result",
          "data": {
            "text/plain": [
              "rating                      int64\n",
              "header                     object\n",
              "customer_name              object\n",
              "country                    object\n",
              "date                       object\n",
              "is_verified                object\n",
              "review                     object\n",
              "type_of_traveller          object\n",
              "seat_type                  object\n",
              "route                      object\n",
              "date_flown                 object\n",
              "seat_comfort              float64\n",
              "cabin_staff_service       float64\n",
              "food_and_beverages        float64\n",
              "inflight_entertainment    float64\n",
              "ground_service            float64\n",
              "wifi_and_connectivity     float64\n",
              "value_for_money             int64\n",
              "recommended                object\n",
              "dtype: object"
            ]
          },
          "metadata": {},
          "execution_count": 8
        }
      ]
    },
    {
      "cell_type": "code",
      "source": [
        "df.shape"
      ],
      "metadata": {
        "colab": {
          "base_uri": "https://localhost:8080/"
        },
        "id": "UnBEh-VS_mpe",
        "outputId": "a72501c7-2085-44d1-e72d-790d6786f58c"
      },
      "execution_count": 9,
      "outputs": [
        {
          "output_type": "execute_result",
          "data": {
            "text/plain": [
              "(876, 19)"
            ]
          },
          "metadata": {},
          "execution_count": 9
        }
      ]
    },
    {
      "cell_type": "code",
      "source": [
        "df.isnull().sum()"
      ],
      "metadata": {
        "colab": {
          "base_uri": "https://localhost:8080/"
        },
        "id": "4lsGYSmw_tiO",
        "outputId": "17f26100-1093-49f6-a0b2-5c2b1ffbe78b"
      },
      "execution_count": 10,
      "outputs": [
        {
          "output_type": "execute_result",
          "data": {
            "text/plain": [
              "rating                      0\n",
              "header                      0\n",
              "customer_name               0\n",
              "country                     0\n",
              "date                        0\n",
              "is_verified               224\n",
              "review                      0\n",
              "type_of_traveller           0\n",
              "seat_type                   0\n",
              "route                       2\n",
              "date_flown                  1\n",
              "seat_comfort               54\n",
              "cabin_staff_service        57\n",
              "food_and_beverages        119\n",
              "inflight_entertainment    282\n",
              "ground_service             32\n",
              "wifi_and_connectivity     574\n",
              "value_for_money             0\n",
              "recommended                 3\n",
              "dtype: int64"
            ]
          },
          "metadata": {},
          "execution_count": 10
        }
      ]
    },
    {
      "cell_type": "code",
      "source": [
        "df.value_for_money.value_counts()"
      ],
      "metadata": {
        "colab": {
          "base_uri": "https://localhost:8080/"
        },
        "id": "P647z29t_1rs",
        "outputId": "e586c36f-10bc-4701-bf6a-b9827a4b5e90"
      },
      "execution_count": 11,
      "outputs": [
        {
          "output_type": "execute_result",
          "data": {
            "text/plain": [
              "1    405\n",
              "5    147\n",
              "2    120\n",
              "4    108\n",
              "3     96\n",
              "Name: value_for_money, dtype: int64"
            ]
          },
          "metadata": {},
          "execution_count": 11
        }
      ]
    },
    {
      "cell_type": "code",
      "source": [
        "X = df.drop('value_for_money', axis=1)\n",
        "y = df.value_for_money"
      ],
      "metadata": {
        "id": "wDtIoRRZABDf"
      },
      "execution_count": 12,
      "outputs": []
    },
    {
      "cell_type": "code",
      "source": [
        "for colname in X.select_dtypes(\"object\"):\n",
        "    X[colname], _ = X[colname].factorize()\n",
        "\n",
        "X.dropna(inplace=True)\n",
        "\n",
        "X.dtypes"
      ],
      "metadata": {
        "colab": {
          "base_uri": "https://localhost:8080/"
        },
        "id": "4w7CfycpHNu6",
        "outputId": "c9016801-64e2-40ce-e0b0-8b1b66badfa0"
      },
      "execution_count": 13,
      "outputs": [
        {
          "output_type": "execute_result",
          "data": {
            "text/plain": [
              "rating                      int64\n",
              "header                      int64\n",
              "customer_name               int64\n",
              "country                     int64\n",
              "date                        int64\n",
              "is_verified                 int64\n",
              "review                      int64\n",
              "type_of_traveller           int64\n",
              "seat_type                   int64\n",
              "route                       int64\n",
              "date_flown                  int64\n",
              "seat_comfort              float64\n",
              "cabin_staff_service       float64\n",
              "food_and_beverages        float64\n",
              "inflight_entertainment    float64\n",
              "ground_service            float64\n",
              "wifi_and_connectivity     float64\n",
              "recommended                 int64\n",
              "dtype: object"
            ]
          },
          "metadata": {},
          "execution_count": 13
        }
      ]
    },
    {
      "cell_type": "code",
      "source": [
        "from sklearn.feature_selection import mutual_info_classif\n",
        "\n",
        "# Check the shapes of X and y\n",
        "print(\"Shape of X:\", X.shape)\n",
        "print(\"Shape of y:\", y.shape)\n",
        "\n",
        "# Ensure X and y have the same number of samples\n",
        "if X.shape[0] != y.shape[0]:\n",
        "    # If the number of samples is not consistent, take the common samples between X and y\n",
        "    common_samples = X.index.intersection(y.index)\n",
        "    X = X.loc[common_samples]\n",
        "    y = y.loc[common_samples]\n",
        "    print(\"After correction - Shape of X:\", X.shape)\n",
        "    print(\"After correction - Shape of y:\", y.shape)\n",
        "\n",
        "# Calculate mutual information scores\n",
        "mi_score = mutual_info_classif(X, y)\n",
        "\n",
        "# Create a pandas Series with feature names as index\n",
        "mi_score = pd.Series(mi_score, name=\"MI Score\", index=X.columns)\n",
        "\n",
        "# Sort the features based on mutual information score in descending order\n",
        "mi_score = mi_score.sort_values(ascending=False)"
      ],
      "metadata": {
        "id": "0s5b1FmWHPYf",
        "colab": {
          "base_uri": "https://localhost:8080/"
        },
        "outputId": "30134b6e-b917-4d3e-f879-1914171ff745"
      },
      "execution_count": 16,
      "outputs": [
        {
          "output_type": "stream",
          "name": "stdout",
          "text": [
            "Shape of X: (292, 18)\n",
            "Shape of y: (876,)\n",
            "After correction - Shape of X: (292, 18)\n",
            "After correction - Shape of y: (292,)\n"
          ]
        }
      ]
    },
    {
      "cell_type": "code",
      "source": [
        "mi_score"
      ],
      "metadata": {
        "colab": {
          "base_uri": "https://localhost:8080/"
        },
        "id": "zWmcD6ftIDp-",
        "outputId": "7ced7f2a-d175-4a2e-e158-30b9d6417b0f"
      },
      "execution_count": 17,
      "outputs": [
        {
          "output_type": "execute_result",
          "data": {
            "text/plain": [
              "rating                    0.446328\n",
              "seat_comfort              0.306477\n",
              "ground_service            0.263966\n",
              "food_and_beverages        0.232536\n",
              "cabin_staff_service       0.195954\n",
              "inflight_entertainment    0.191915\n",
              "wifi_and_connectivity     0.167946\n",
              "date_flown                0.088230\n",
              "is_verified               0.081080\n",
              "review                    0.076981\n",
              "header                    0.076294\n",
              "date                      0.074303\n",
              "customer_name             0.068288\n",
              "route                     0.061597\n",
              "seat_type                 0.021397\n",
              "type_of_traveller         0.000000\n",
              "country                   0.000000\n",
              "recommended               0.000000\n",
              "Name: MI Score, dtype: float64"
            ]
          },
          "metadata": {},
          "execution_count": 17
        }
      ]
    },
    {
      "cell_type": "code",
      "source": [
        "def plot_mi_score(score):\n",
        "    score = score.sort_values(ascending=True)\n",
        "    width = np.arange(len(score))\n",
        "    ticks = list(score.index)\n",
        "    plt.barh(width, score)\n",
        "    plt.yticks(width, ticks)\n",
        "    plt.title(\"Mutual Information Score Graph\")\n",
        "\n",
        "\n",
        "plt.figure(dpi=100, figsize=(8, 5))\n",
        "plot_mi_score(mi_score)"
      ],
      "metadata": {
        "colab": {
          "base_uri": "https://localhost:8080/",
          "height": 468
        },
        "id": "Ct4agyQZJktW",
        "outputId": "2d3d36dd-cbe5-4ba5-8c2c-f2f3184332e9"
      },
      "execution_count": 18,
      "outputs": [
        {
          "output_type": "display_data",
          "data": {
            "text/plain": [
              "<Figure size 800x500 with 1 Axes>"
            ],
            "image/png": "[encoded data removed]"
          },
          "metadata": {}
        }
      ]
    },
    {
      "cell_type": "code",
      "source": [],
      "metadata": {
        "id": "g2wFcpEVJ-VF"
      },
      "execution_count": null,
      "outputs": []
    }
  ]
}